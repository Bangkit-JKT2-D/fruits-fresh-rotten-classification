{
  "nbformat": 4,
  "nbformat_minor": 0,
  "metadata": {
    "colab": {
      "name": "fresh_rotten_fruit.ipynb",
      "provenance": []
    },
    "kernelspec": {
      "name": "python3",
      "display_name": "Python 3"
    },
    "accelerator": "GPU"
  },
  "cells": [
    {
      "cell_type": "markdown",
      "metadata": {
        "id": "hN6RPuLXpQDW",
        "colab_type": "text"
      },
      "source": [
        "## Import\n",
        "The following code imports the necessary code to run the code in the rest of this Colaboratory."
      ]
    },
    {
      "cell_type": "code",
      "metadata": {
        "id": "xjAU-S1tpYbe",
        "colab_type": "code",
        "colab": {}
      },
      "source": [
        "import os\n",
        "import zipfile\n",
        "import random\n",
        "import shutil\n",
        "import numpy as np\n",
        "from shutil import copyfile\n",
        "\n",
        "import tensorflow as tf\n",
        "from google.colab import files\n",
        "from tensorflow.keras.preprocessing.image import ImageDataGenerator"
      ],
      "execution_count": 0,
      "outputs": []
    },
    {
      "cell_type": "code",
      "metadata": {
        "id": "atlfTzNGp9Da",
        "colab_type": "code",
        "outputId": "b02dc424-5843-4db0-ac89-aef5b34db361",
        "colab": {
          "base_uri": "https://localhost:8080/",
          "height": 36
        }
      },
      "source": [
        "print(tf.__version__)"
      ],
      "execution_count": 3,
      "outputs": [
        {
          "output_type": "stream",
          "text": [
            "2.2.0\n"
          ],
          "name": "stdout"
        }
      ]
    },
    {
      "cell_type": "markdown",
      "metadata": {
        "id": "1j3qJS8OoKBn",
        "colab_type": "text"
      },
      "source": [
        "## Download Dataset\n",
        "Open this link to know how to get cookies.txt https://www.kaggle.com/general/51898"
      ]
    },
    {
      "cell_type": "code",
      "metadata": {
        "id": "UsdfCSNCGiFz",
        "colab_type": "code",
        "outputId": "bd6b50eb-4456-4996-a01e-cf7e2312e90e",
        "colab": {
          "resources": {
            "http://localhost:8080/nbextensions/google.colab/files.js": {
              "data": "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",
              "ok": true,
              "headers": [
                [
                  "content-type",
                  "application/javascript"
                ]
              ],
              "status": 200,
              "status_text": ""
            }
          },
          "base_uri": "https://localhost:8080/",
          "height": 115
        }
      },
      "source": [
        "#upload kaggle cookies\n",
        "files.upload()"
      ],
      "execution_count": 4,
      "outputs": [
        {
          "output_type": "display_data",
          "data": {
            "text/html": [
              "\n",
              "     <input type=\"file\" id=\"files-a9c5f508-3213-4606-9933-9fa4ff0b8699\" name=\"files[]\" multiple disabled />\n",
              "     <output id=\"result-a9c5f508-3213-4606-9933-9fa4ff0b8699\">\n",
              "      Upload widget is only available when the cell has been executed in the\n",
              "      current browser session. Please rerun this cell to enable.\n",
              "      </output>\n",
              "      <script src=\"/nbextensions/google.colab/files.js\"></script> "
            ],
            "text/plain": [
              "<IPython.core.display.HTML object>"
            ]
          },
          "metadata": {
            "tags": []
          }
        },
        {
          "output_type": "stream",
          "text": [
            "Saving cookies.txt to cookies.txt\n"
          ],
          "name": "stdout"
        },
        {
          "output_type": "execute_result",
          "data": {
            "text/plain": [
              "{'cookies.txt': b'# HTTP Cookie File downloaded with cookies.txt by Genuinous @genuinous\\n# This file can be used by wget, curl, aria2c and other standard compliant tools.\\n# Usage Examples:\\n#   1) wget -x --load-cookies cookies.txt \"https://www.kaggle.com/sriramr/fruits-fresh-and-rotten-for-classification/metadata\"\\n#   2) curl --cookie cookies.txt \"https://www.kaggle.com/sriramr/fruits-fresh-and-rotten-for-classification/metadata\"\\n#   3) aria2c --load-cookies cookies.txt \"https://www.kaggle.com/sriramr/fruits-fresh-and-rotten-for-classification/metadata\"\\n#\\nwww.kaggle.com\\tFALSE\\t/\\tFALSE\\t1605864030\\tka_sessionid\\td2e10809812a445d203c4deb1e76293d\\n.kaggle.com\\tTRUE\\t/\\tFALSE\\t1654297403\\t_ga\\tGA1.2.439737057.1590104673\\nwww.kaggle.com\\tFALSE\\t/\\tTRUE\\t1593143661\\t.ASPXAUTH\\tD7E34DA930A9A6B6D74653ED5B50D5ADAFA20E1E7D9BD2284D353A5706F38E4C5662184FC8744BA2AB29BF669DEA7A0F1F823CDC6C9A791D5360049A5C6D3DD60AB0FA3A20ED21CFFB42C4B66D820D8EECA81488\\n.kaggle.com\\tTRUE\\t/\\tFALSE\\t1591311803\\t_gid\\tGA1.2.958658708.1591093052\\nwww.kaggle.com\\tFALSE\\t/\\tTRUE\\t0\\tCSRF-TOKEN\\tCfDJ8LdUzqlsSWBPr4Ce3rb9VL9yHYdKxGHjeS1ARrmVNpV1QIAGyLoVV6zM5llPS1WuX9iGFrs9CoPA9hqMH4CyTvMA2E4rGgJI3D229H9dYdrb-s7QWnb4HmAjIoe6R8lnRhjDn0aHd1CttCM6kU-_k3w\\nwww.kaggle.com\\tFALSE\\t/\\tFALSE\\t0\\tGCLB\\tCKyvl7eSs7vOFA\\nwww.kaggle.com\\tFALSE\\t/\\tTRUE\\t0\\tXSRF-TOKEN\\tCfDJ8LdUzqlsSWBPr4Ce3rb9VL_wtqJgtgsdrdv1HVJ4cwlC3pLyfiKbD2ixpfNDBpkRM57HcRtA4OD75u-f_VgAs6XRXzZBKgfh8QilWL4hG1lBIOLcpeCAKesAkx7qoPtdS_meCJutiMC41ITR81cLJ01PlnEfFWezYQU-C8MfNE4YrsgoxgtRnzS8k06nYTlvsg\\nwww.kaggle.com\\tFALSE\\t/\\tTRUE\\t0\\tCLIENT-TOKEN\\teyJhbGciOiJub25lIiwidHlwIjoiSldUIn0.eyJpc3MiOiJrYWdnbGUiLCJhdWQiOiJjbGllbnQiLCJzdWIiOiJhZW1pcmFsZmF0aCIsIm5idCI6IjIwMjAtMDYtMDNUMjM6MDM6MjEuNTk2Nzk1OVoiLCJpYXQiOiIyMDIwLTA2LTAzVDIzOjAzOjIxLjU5Njc5NTlaIiwianRpIjoiMjk0MmNkYTctOTlkZi00ZGZiLWE1Y2QtYTg2NGVlOTRlODE4IiwiZXhwIjoiMjAyMC0wNy0wM1QyMzowMzoyMS41OTY3OTU5WiIsInVpZCI6MzYxOTk3NCwiZmYiOlsiRmxleGlibGVHcHUiLCJLZXJuZWxzSW50ZXJuZXQiLCJEYXRhRXhwbG9yZXJWMiIsIkRhdGFTb3VyY2VTZWxlY3RvclYyIiwiS2VybmVsc1ZpZXdlcklubmVyVGFibGVPZkNvbnRlbnRzIiwiRm9ydW1XYXRjaERlcHJlY2F0ZWQiLCJOZXdLZXJuZWxXZWxjb21lIiwiTWRlSW1hZ2VVcGxvYWRlciIsIktlcm5lbHNRdWlja1ZlcnNpb25zIiwiRGlzYWJsZUN1c3RvbVBhY2thZ2VzIiwiRG9ja2VyTW9kYWxTZWxlY3RvciIsIlBob25lVmVyaWZ5Rm9yR3B1IiwiQ2xvdWRTZXJ2aWNlc0tlcm5lbEludGVnIiwiVXNlclNlY3JldHNLZXJuZWxJbnRlZyIsIk5hdmlnYXRpb25SZWRlc2lnbiIsIktlcm5lbHNTbmlwcGV0cyIsIktlcm5lbFdlbGNvbWVMb2FkRnJvbVVybCIsIlRwdUtlcm5lbEludGVnIiwiS2VybmVsc0ZpcmViYXNlTG9uZ1BvbGxpbmciLCJEYXRhc2V0TGl2ZU1vdW50IiwiRW5hYmxlUmFwaWRhc2giLCJEYXRhc2V0c0RhdGFFeHBsb3JlclYzVHJlZUxlZnQiXSwicGlkIjoia2FnZ2xlLTE2MTYwNyIsInN2YyI6IndlYi1mZSIsInNkYWsiOiJBSXphU3lEQU5HWEZIdFNJVmM1MU1JZEd3ZzRtUUZnbTNvTnJLb28iLCJibGQiOiI1MmViNmMyODMxYjZiN2I2ZmIzMDllNDExMjE0ZGVjYjRhM2U1N2UyIn0.\\n.kaggle.com\\tTRUE\\t/\\tFALSE\\t1591830206\\tintercom-session-koj6gxx6\\tWEwvTzJsTUFiQ3B1QlZPRUJmaHhWcnJmZTlhOTVUTTUxUWNSNXFGbmJCbDg3VGNvV2xNYWM0WmFaZDRFOVlIWS0tUTJneEE0czludGdmTmJPZXlTd2RZZz09--5d572eb2430c72d1dc1cc47b38dba8e0f229fce7\\n'}"
            ]
          },
          "metadata": {
            "tags": []
          },
          "execution_count": 4
        }
      ]
    },
    {
      "cell_type": "code",
      "metadata": {
        "id": "bVIMuzaNnPHh",
        "colab_type": "code",
        "outputId": "10f901f6-762b-4cc7-e5c7-faaa27a5d850",
        "colab": {
          "base_uri": "https://localhost:8080/",
          "height": 341
        }
      },
      "source": [
        "!wget --no-check-certificate -x --load-cookies cookies.txt \\\n",
        "  \"https://www.kaggle.com/sriramr/fruits-fresh-and-rotten-for-classification/download\" \\\n",
        "  -O /tmp/data.zip"
      ],
      "execution_count": 5,
      "outputs": [
        {
          "output_type": "stream",
          "text": [
            "--2020-06-04 08:30:26--  https://www.kaggle.com/sriramr/fruits-fresh-and-rotten-for-classification/download\n",
            "Resolving www.kaggle.com (www.kaggle.com)... 35.244.233.98\n",
            "Connecting to www.kaggle.com (www.kaggle.com)|35.244.233.98|:443... connected.\n",
            "HTTP request sent, awaiting response... 302 Found\n",
            "Location: https://storage.googleapis.com/kaggle-data-sets/46490%2F84555%2Fbundle%2Farchive.zip?GoogleAccessId=gcp-kaggle-com@kaggle-161607.iam.gserviceaccount.com&Expires=1591518626&Signature=SSyk%2B1GffRQqBKKgserdKvEXr9bO1UFxKCq1Ys87pZrhbHEY8sb5n%2F23DYc21NaIs1FKWmF9TsGYaEb6QbJbfa0HA2%2Bpszym0bWeBQJrl8ZThDH5WZZ7YdPVowGKrvYG3G9iINmACQDmaLIbhmcHJgMkIzqOaJyfewkyZFzF0SC77qwXx73AC3EiHMhXxOFx3oP3YGSnCdo%2BB3EtRifEjMSqvpMm6j6Oxoj%2BScHvwkTWlPAx7KXqz4C3e3lNXuvwXTzn8%2BdXjtMebO%2BIP6wnPH%2Fzsn6DzdkwbWFMB3zy0M1W42jTKj%2BgHW2bn4AgTEcIYo1iB96qt6lWnL9Xo%2Fh89w%3D%3D [following]\n",
            "--2020-06-04 08:30:27--  https://storage.googleapis.com/kaggle-data-sets/46490%2F84555%2Fbundle%2Farchive.zip?GoogleAccessId=gcp-kaggle-com@kaggle-161607.iam.gserviceaccount.com&Expires=1591518626&Signature=SSyk%2B1GffRQqBKKgserdKvEXr9bO1UFxKCq1Ys87pZrhbHEY8sb5n%2F23DYc21NaIs1FKWmF9TsGYaEb6QbJbfa0HA2%2Bpszym0bWeBQJrl8ZThDH5WZZ7YdPVowGKrvYG3G9iINmACQDmaLIbhmcHJgMkIzqOaJyfewkyZFzF0SC77qwXx73AC3EiHMhXxOFx3oP3YGSnCdo%2BB3EtRifEjMSqvpMm6j6Oxoj%2BScHvwkTWlPAx7KXqz4C3e3lNXuvwXTzn8%2BdXjtMebO%2BIP6wnPH%2Fzsn6DzdkwbWFMB3zy0M1W42jTKj%2BgHW2bn4AgTEcIYo1iB96qt6lWnL9Xo%2Fh89w%3D%3D\n",
            "Resolving storage.googleapis.com (storage.googleapis.com)... 108.177.119.128, 2a00:1450:4013:c03::80\n",
            "Connecting to storage.googleapis.com (storage.googleapis.com)|108.177.119.128|:443... connected.\n",
            "HTTP request sent, awaiting response... 200 OK\n",
            "Length: 3845474308 (3.6G) [application/zip]\n",
            "Saving to: ‘/tmp/data.zip’\n",
            "\n",
            "/tmp/data.zip       100%[===================>]   3.58G  55.4MB/s    in 68s     \n",
            "\n",
            "2020-06-04 08:31:36 (53.6 MB/s) - ‘/tmp/data.zip’ saved [3845474308/3845474308]\n",
            "\n"
          ],
          "name": "stdout"
        }
      ]
    },
    {
      "cell_type": "markdown",
      "metadata": {
        "id": "5WzNVHRHpfhz",
        "colab_type": "text"
      },
      "source": [
        "## Extract Data"
      ]
    },
    {
      "cell_type": "code",
      "metadata": {
        "id": "ZJKWED5NpksW",
        "colab_type": "code",
        "colab": {}
      },
      "source": [
        "local_zip = '/tmp/data.zip'\n",
        "zip_ref = zipfile.ZipFile(local_zip, 'r')\n",
        "zip_ref.extractall('/tmp')\n",
        "zip_ref.close()"
      ],
      "execution_count": 0,
      "outputs": []
    },
    {
      "cell_type": "markdown",
      "metadata": {
        "id": "t1LLO9qcnbI3",
        "colab_type": "text"
      },
      "source": [
        "## Split Dataset to Train, Test and Validation"
      ]
    },
    {
      "cell_type": "code",
      "metadata": {
        "id": "hawHUrw0wk59",
        "colab_type": "code",
        "colab": {}
      },
      "source": [
        "def make_dir(PATH):\n",
        "  if not os.path.exists(PATH):\n",
        "      os.mkdir(PATH)\n",
        "      return PATH\n",
        "  else:\n",
        "    shutil.rmtree(PATH)\n",
        "    os.mkdir(PATH)\n",
        "    return PATH"
      ],
      "execution_count": 0,
      "outputs": []
    },
    {
      "cell_type": "code",
      "metadata": {
        "id": "cuYCDDB1pu9I",
        "colab_type": "code",
        "colab": {}
      },
      "source": [
        "try:\n",
        "    base_dir = '/tmp'\n",
        "    fruit_dir = make_dir(os.path.join(base_dir, 'fruit-dataset'))\n",
        "    train_dir = make_dir(os.path.join(fruit_dir, 'train'))\n",
        "    validation_dir = make_dir(os.path.join(fruit_dir, 'val'))\n",
        "    test_dir = make_dir(os.path.join(fruit_dir, 'test'))\n",
        "\n",
        "    train_fresh_apples_dir = make_dir(os.path.join(train_dir, 'Fresh Apples'))\n",
        "    train_fresh_bananas_dir = make_dir(os.path.join(train_dir, 'Fresh Bananas'))\n",
        "    train_fresh_oranges_dir = make_dir(os.path.join(train_dir, 'Fresh Oranges'))\n",
        "    train_rotten_apples_dir = make_dir(os.path.join(train_dir, 'Rotten Apples'))\n",
        "    train_rotten_bananas_dir = make_dir(os.path.join(train_dir, 'Rotten Bananas'))\n",
        "    train_rotten_oranges_dir = make_dir(os.path.join(train_dir, 'Rotten Oranges'))\n",
        "\n",
        "    validation_fresh_apples_dir = make_dir(os.path.join(validation_dir, 'Fresh Apples'))\n",
        "    validation_fresh_bananas_dir = make_dir(os.path.join(validation_dir, 'Fresh Bananas'))\n",
        "    validation_fresh_oranges_dir = make_dir(os.path.join(validation_dir, 'Fresh Oranges'))\n",
        "    validation_rotten_apples_dir = make_dir(os.path.join(validation_dir, 'Rotten Apples'))\n",
        "    validation_rotten_bananas_dir = make_dir(os.path.join(validation_dir, 'Rotten Bananas'))\n",
        "    validation_rotten_oranges_dir = make_dir(os.path.join(validation_dir, 'Rotten Oranges'))\n",
        "\n",
        "    test_fresh_apples_dir = make_dir(os.path.join(test_dir, 'Fresh Apples'))\n",
        "    test_fresh_bananas_dir = make_dir(os.path.join(test_dir, 'Fresh Bananas'))\n",
        "    test_fresh_oranges_dir = make_dir(os.path.join(test_dir, 'Fresh Oranges'))\n",
        "    test_rotten_apples_dir = make_dir(os.path.join(test_dir, 'Rotten Apples'))\n",
        "    test_rotten_bananas_dir = make_dir(os.path.join(test_dir, 'Rotten Bananas'))\n",
        "    test_rotten_oranges_dir = make_dir(os.path.join(test_dir, 'Rotten Oranges'))\n",
        "\n",
        "except OSError:\n",
        "    pass"
      ],
      "execution_count": 0,
      "outputs": []
    },
    {
      "cell_type": "code",
      "metadata": {
        "id": "xmMyaqbmpzfX",
        "colab_type": "code",
        "colab": {}
      },
      "source": [
        "from PIL import Image\n",
        "\n",
        "def split_data(SOURCE='', TRAINING='', VALIDATION='', SPLIT_SIZE=0):\n",
        "  data = os.listdir(SOURCE)\n",
        "  random_data = random.sample(data, len(data))\n",
        "\n",
        "  train_size = len(data)*SPLIT_SIZE\n",
        "\n",
        "  for i, filename in enumerate(random_data):\n",
        "    filepath = os.path.join(SOURCE, filename)\n",
        "    if os.path.getsize(filepath) > 0:\n",
        "      if i < train_size:\n",
        "        copyfile(filepath, os.path.join(TRAINING, filename))\n",
        "        # img = Image.open(os.path.join(TRAINING, filename)).convert('L')\n",
        "        # img.save(os.path.join(TRAINING, filename))\n",
        "      else:\n",
        "        copyfile(filepath, os.path.join(VALIDATION, filename))\n",
        "        # img = Image.open(os.path.join(VALIDATION, filename)).convert('L')\n",
        "        # img.save(os.path.join(VALIDATION, filename))"
      ],
      "execution_count": 0,
      "outputs": []
    },
    {
      "cell_type": "code",
      "metadata": {
        "id": "LgrZmUPtpOd2",
        "colab_type": "code",
        "outputId": "31e07045-39ff-4cd1-cb33-f8371c60268e",
        "colab": {
          "base_uri": "https://localhost:8080/",
          "height": 264
        }
      },
      "source": [
        "dataset_train_dir = '/tmp/dataset/train'\n",
        "dataset_test_dir = '/tmp/dataset/test'\n",
        "\n",
        "fapples_train_dir = os.path.join(dataset_train_dir, 'freshapples')\n",
        "fbananas_train_dir = os.path.join(dataset_train_dir, 'freshbanana')\n",
        "foranges_train_dir = os.path.join(dataset_train_dir, 'freshoranges')\n",
        "rapples_train_dir = os.path.join(dataset_train_dir, 'rottenapples')\n",
        "rbananas_train_dir = os.path.join(dataset_train_dir, 'rottenbanana')\n",
        "roranges_train_dir = os.path.join(dataset_train_dir, 'rottenoranges')\n",
        "\n",
        "fapples_test_dir = os.path.join(dataset_test_dir, 'freshapples')\n",
        "fbananas_test_dir = os.path.join(dataset_test_dir, 'freshbanana')\n",
        "foranges_test_dir = os.path.join(dataset_test_dir, 'freshoranges')\n",
        "rapples_test_dir = os.path.join(dataset_test_dir, 'rottenapples')\n",
        "rbananas_test_dir = os.path.join(dataset_test_dir, 'rottenbanana')\n",
        "roranges_test_dir = os.path.join(dataset_test_dir, 'rottenoranges')\n",
        "\n",
        "print('fapples_train images = ', len(os.listdir(fapples_train_dir)))\n",
        "print('fbananas_train images = ', len(os.listdir(fbananas_train_dir)))\n",
        "print('foranges_train images = ', len(os.listdir(foranges_train_dir)))\n",
        "print('rapples_train images = ', len(os.listdir(rapples_train_dir)))\n",
        "print('rbananas_train images = ', len(os.listdir(rbananas_train_dir)))\n",
        "print('roranges_train images = ', len(os.listdir(roranges_train_dir)))\n",
        "print()\n",
        "print('fapples_test images = ', len(os.listdir(fapples_test_dir)))\n",
        "print('fbananas_test images = ', len(os.listdir(fbananas_test_dir)))\n",
        "print('foranges_test images = ', len(os.listdir(foranges_test_dir)))\n",
        "print('rapples_test images = ', len(os.listdir(rapples_test_dir)))\n",
        "print('rbananas_test images = ', len(os.listdir(rbananas_test_dir)))\n",
        "print('roranges_test images = ', len(os.listdir(roranges_test_dir)))"
      ],
      "execution_count": 99,
      "outputs": [
        {
          "output_type": "stream",
          "text": [
            "fapples_train images =  1693\n",
            "fbananas_train images =  1581\n",
            "foranges_train images =  1466\n",
            "rapples_train images =  2342\n",
            "rbananas_train images =  2224\n",
            "roranges_train images =  1595\n",
            "\n",
            "fapples_test images =  395\n",
            "fbananas_test images =  381\n",
            "foranges_test images =  388\n",
            "rapples_test images =  601\n",
            "rbananas_test images =  530\n",
            "roranges_test images =  403\n"
          ],
          "name": "stdout"
        }
      ]
    },
    {
      "cell_type": "code",
      "metadata": {
        "id": "feno4qIJp17H",
        "colab_type": "code",
        "colab": {}
      },
      "source": [
        "SPLIT_SIZE = 0.77\n",
        "split_data(fapples_train_dir, train_fresh_apples_dir, validation_fresh_apples_dir, SPLIT_SIZE)\n",
        "split_data(fbananas_train_dir, train_fresh_bananas_dir, validation_fresh_bananas_dir, SPLIT_SIZE)\n",
        "split_data(foranges_train_dir, train_fresh_oranges_dir, validation_fresh_oranges_dir, SPLIT_SIZE)\n",
        "split_data(rapples_train_dir, train_rotten_apples_dir, validation_rotten_apples_dir, SPLIT_SIZE)\n",
        "split_data(rbananas_train_dir, train_rotten_bananas_dir, validation_rotten_bananas_dir, SPLIT_SIZE)\n",
        "split_data(roranges_train_dir, train_rotten_oranges_dir, validation_rotten_oranges_dir, SPLIT_SIZE)\n",
        "\n",
        "SPLIT_SIZE = 1.0\n",
        "split_data(fapples_test_dir, test_fresh_apples_dir, validation_fresh_apples_dir, SPLIT_SIZE)\n",
        "split_data(fbananas_test_dir, test_fresh_bananas_dir, validation_fresh_bananas_dir, SPLIT_SIZE)\n",
        "split_data(foranges_test_dir, test_fresh_oranges_dir, validation_fresh_oranges_dir, SPLIT_SIZE)\n",
        "split_data(rapples_test_dir, test_rotten_apples_dir, validation_rotten_apples_dir, SPLIT_SIZE)\n",
        "split_data(rbananas_test_dir, test_rotten_bananas_dir, validation_rotten_bananas_dir, SPLIT_SIZE)\n",
        "split_data(roranges_test_dir, test_rotten_oranges_dir, validation_rotten_oranges_dir, SPLIT_SIZE)"
      ],
      "execution_count": 0,
      "outputs": []
    },
    {
      "cell_type": "code",
      "metadata": {
        "id": "giGseJnkzm1Q",
        "colab_type": "code",
        "outputId": "f31b989e-6175-4292-ecc8-f594dce26360",
        "colab": {
          "base_uri": "https://localhost:8080/",
          "height": 397
        }
      },
      "source": [
        "print(len(os.listdir('/tmp/fruit-dataset/train/Fresh Apples/')))\n",
        "print(len(os.listdir('/tmp/fruit-dataset/train/Fresh Bananas/')))\n",
        "print(len(os.listdir('/tmp/fruit-dataset/train/Fresh Oranges/')))\n",
        "print(len(os.listdir('/tmp/fruit-dataset/train/Rotten Apples/')))\n",
        "print(len(os.listdir('/tmp/fruit-dataset/train/Rotten Bananas/')))\n",
        "print(len(os.listdir('/tmp/fruit-dataset/train/Rotten Oranges/')))\n",
        "print()\n",
        "print(len(os.listdir('/tmp/fruit-dataset/val/Fresh Apples/')))\n",
        "print(len(os.listdir('/tmp/fruit-dataset/val/Fresh Bananas/')))\n",
        "print(len(os.listdir('/tmp/fruit-dataset/val/Fresh Oranges/')))\n",
        "print(len(os.listdir('/tmp/fruit-dataset/val/Rotten Apples/')))\n",
        "print(len(os.listdir('/tmp/fruit-dataset/val/Rotten Bananas/')))\n",
        "print(len(os.listdir('/tmp/fruit-dataset/val/Rotten Oranges/')))\n",
        "print()\n",
        "print(len(os.listdir('/tmp/fruit-dataset/test/Fresh Apples/')))\n",
        "print(len(os.listdir('/tmp/fruit-dataset/test/Fresh Bananas/')))\n",
        "print(len(os.listdir('/tmp/fruit-dataset/test/Fresh Oranges/')))\n",
        "print(len(os.listdir('/tmp/fruit-dataset/test/Rotten Apples/')))\n",
        "print(len(os.listdir('/tmp/fruit-dataset/test/Rotten Bananas/')))\n",
        "print(len(os.listdir('/tmp/fruit-dataset/test/Rotten Oranges/')))"
      ],
      "execution_count": 106,
      "outputs": [
        {
          "output_type": "stream",
          "text": [
            "1304\n",
            "1218\n",
            "1129\n",
            "1804\n",
            "1713\n",
            "1229\n",
            "\n",
            "389\n",
            "363\n",
            "337\n",
            "538\n",
            "511\n",
            "366\n",
            "\n",
            "395\n",
            "381\n",
            "388\n",
            "601\n",
            "530\n",
            "403\n"
          ],
          "name": "stdout"
        }
      ]
    },
    {
      "cell_type": "markdown",
      "metadata": {
        "id": "avKnfQCYniuo",
        "colab_type": "text"
      },
      "source": [
        "## Augmentation"
      ]
    },
    {
      "cell_type": "code",
      "metadata": {
        "id": "c1ZotiW51xSM",
        "colab_type": "code",
        "colab": {}
      },
      "source": [
        "train_datagen = ImageDataGenerator(\n",
        "    rescale=1./255,\n",
        "    # rotation_range=40, #20, 40, 60\n",
        "    width_shift_range=0.2,\n",
        "    height_shift_range=0.2,\n",
        "    shear_range=0.2,\n",
        "    zoom_range=0.2,\n",
        "    horizontal_flip=True,\n",
        "    fill_mode='nearest'\n",
        ")\n",
        "\n",
        "validation_datagen = ImageDataGenerator(\n",
        "    rescale=1./255\n",
        ")"
      ],
      "execution_count": 0,
      "outputs": []
    },
    {
      "cell_type": "markdown",
      "metadata": {
        "id": "boND1dnBnmO8",
        "colab_type": "text"
      },
      "source": [
        "## Image Data Generator"
      ]
    },
    {
      "cell_type": "code",
      "metadata": {
        "id": "71theQtN1uby",
        "colab_type": "code",
        "outputId": "545d7cfd-7014-41ae-a925-0a01af338139",
        "colab": {
          "base_uri": "https://localhost:8080/",
          "height": 55
        }
      },
      "source": [
        "train_generator = train_datagen.flow_from_directory(train_dir,\n",
        "                                                    batch_size=32,\n",
        "                                                    color_mode=\"rgb\",\n",
        "                                                    # shuffle = False,\n",
        "                                                    target_size=(150,150),\n",
        "                                                    class_mode='categorical')\n",
        "\n",
        "validation_generator = train_datagen.flow_from_directory(validation_dir,\n",
        "                                                         batch_size=32,\n",
        "                                                         color_mode=\"rgb\",\n",
        "                                                         # shuffle = False,\n",
        "                                                         target_size=(150,150),\n",
        "                                                         class_mode='categorical')"
      ],
      "execution_count": 108,
      "outputs": [
        {
          "output_type": "stream",
          "text": [
            "Found 8397 images belonging to 6 classes.\n",
            "Found 2504 images belonging to 6 classes.\n"
          ],
          "name": "stdout"
        }
      ]
    },
    {
      "cell_type": "markdown",
      "metadata": {
        "id": "0iLWWXPZoWTs",
        "colab_type": "text"
      },
      "source": [
        "## Callbacks"
      ]
    },
    {
      "cell_type": "code",
      "metadata": {
        "id": "sK3z_ORJ4x5m",
        "colab_type": "code",
        "colab": {}
      },
      "source": [
        "class myCallback(tf.keras.callbacks.Callback):\n",
        "  def on_epoch_end(self, epoch, logs={}):\n",
        "    if(logs.get('accuracy') > 0.98):\n",
        "      print(\"\\nReached 98% accuracy. Stop Training\")\n",
        "      self.model.stop_training = True\n",
        "\n",
        "callbacks = myCallback()"
      ],
      "execution_count": 0,
      "outputs": []
    },
    {
      "cell_type": "markdown",
      "metadata": {
        "id": "PIEmked8npyF",
        "colab_type": "text"
      },
      "source": [
        "## Sequential Model"
      ]
    },
    {
      "cell_type": "code",
      "metadata": {
        "id": "_gvnMiWD0j90",
        "colab_type": "code",
        "outputId": "2a63fa8e-293e-4ad6-d073-0e3389840975",
        "colab": {
          "base_uri": "https://localhost:8080/",
          "height": 511
        }
      },
      "source": [
        "model = tf.keras.models.Sequential([\n",
        "    tf.keras.layers.Conv2D(32, (3,3), activation='relu', input_shape=(150, 150, 3)),\n",
        "    tf.keras.layers.MaxPooling2D(2,2),\n",
        "    # tf.keras.layers.Dropout(0.2),\n",
        "    tf.keras.layers.Conv2D(64, (3,3), activation='relu'),\n",
        "    tf.keras.layers.MaxPooling2D(2,2),\n",
        "    # tf.keras.layers.Dropout(0.2),\n",
        "    tf.keras.layers.Conv2D(128, (3,3), activation='relu'),\n",
        "    tf.keras.layers.MaxPooling2D(2,2),\n",
        "    # tf.keras.layers.Dropout(0.2),\n",
        "    tf.keras.layers.Flatten(),\n",
        "    tf.keras.layers.Dense(512, activation='relu'),\n",
        "    # tf.keras.layers.Dropout(0.2),\n",
        "    tf.keras.layers.Dense(6, activation='softmax')\n",
        "])\n",
        "\n",
        "model.compile(optimizer='adam',\n",
        "              loss='categorical_crossentropy',\n",
        "              metrics=['accuracy'])\n",
        "\n",
        "model.summary()"
      ],
      "execution_count": 110,
      "outputs": [
        {
          "output_type": "stream",
          "text": [
            "Model: \"sequential_3\"\n",
            "_________________________________________________________________\n",
            "Layer (type)                 Output Shape              Param #   \n",
            "=================================================================\n",
            "conv2d_9 (Conv2D)            (None, 148, 148, 32)      896       \n",
            "_________________________________________________________________\n",
            "max_pooling2d_9 (MaxPooling2 (None, 74, 74, 32)        0         \n",
            "_________________________________________________________________\n",
            "conv2d_10 (Conv2D)           (None, 72, 72, 64)        18496     \n",
            "_________________________________________________________________\n",
            "max_pooling2d_10 (MaxPooling (None, 36, 36, 64)        0         \n",
            "_________________________________________________________________\n",
            "conv2d_11 (Conv2D)           (None, 34, 34, 128)       73856     \n",
            "_________________________________________________________________\n",
            "max_pooling2d_11 (MaxPooling (None, 17, 17, 128)       0         \n",
            "_________________________________________________________________\n",
            "flatten_3 (Flatten)          (None, 36992)             0         \n",
            "_________________________________________________________________\n",
            "dense_6 (Dense)              (None, 512)               18940416  \n",
            "_________________________________________________________________\n",
            "dense_7 (Dense)              (None, 6)                 3078      \n",
            "=================================================================\n",
            "Total params: 19,036,742\n",
            "Trainable params: 19,036,742\n",
            "Non-trainable params: 0\n",
            "_________________________________________________________________\n"
          ],
          "name": "stdout"
        }
      ]
    },
    {
      "cell_type": "code",
      "metadata": {
        "id": "U91Jl7OgJj0I",
        "colab_type": "code",
        "outputId": "7b82624d-e61a-4930-f349-e56df7ee28e9",
        "colab": {
          "base_uri": "https://localhost:8080/",
          "height": 55
        }
      },
      "source": [
        "train_len = 0\n",
        "for foldername in os.listdir('/tmp/fruit-dataset/train'):\n",
        "    train_len = train_len + len(os.listdir(os.path.join('/tmp/fruit-dataset/train',foldername)))\n",
        "    \n",
        "val_len = 0\n",
        "for foldername in os.listdir('/tmp/fruit-dataset/val'):\n",
        "    val_len = val_len + len(os.listdir(os.path.join('/tmp/fruit-dataset/val',foldername)))\n",
        "\n",
        "print(train_len)\n",
        "print(val_len)"
      ],
      "execution_count": 111,
      "outputs": [
        {
          "output_type": "stream",
          "text": [
            "8397\n",
            "2504\n"
          ],
          "name": "stdout"
        }
      ]
    },
    {
      "cell_type": "code",
      "metadata": {
        "id": "G_gyoqb42rpK",
        "colab_type": "code",
        "outputId": "a3cd0be8-bad3-41eb-de05-00ae4159d2bb",
        "colab": {
          "base_uri": "https://localhost:8080/",
          "height": 777
        }
      },
      "source": [
        "history = model.fit(\n",
        "    train_generator,\n",
        "    steps_per_epoch=(train_len/32),\n",
        "    epochs=20,\n",
        "    verbose=1,\n",
        "    callbacks=[callbacks],\n",
        "    validation_data=validation_generator,\n",
        "    validation_steps=(val_len/32)\n",
        ")"
      ],
      "execution_count": 112,
      "outputs": [
        {
          "output_type": "stream",
          "text": [
            "Epoch 1/20\n",
            "263/262 [==============================] - 88s 333ms/step - loss: 1.0337 - accuracy: 0.6005 - val_loss: 0.6075 - val_accuracy: 0.7808\n",
            "Epoch 2/20\n",
            "263/262 [==============================] - 85s 323ms/step - loss: 0.4645 - accuracy: 0.8315 - val_loss: 0.3370 - val_accuracy: 0.8766\n",
            "Epoch 3/20\n",
            "263/262 [==============================] - 84s 320ms/step - loss: 0.3634 - accuracy: 0.8665 - val_loss: 0.3262 - val_accuracy: 0.8770\n",
            "Epoch 4/20\n",
            "263/262 [==============================] - 84s 320ms/step - loss: 0.2993 - accuracy: 0.8897 - val_loss: 0.3457 - val_accuracy: 0.8838\n",
            "Epoch 5/20\n",
            "263/262 [==============================] - 84s 321ms/step - loss: 0.2757 - accuracy: 0.8975 - val_loss: 0.2247 - val_accuracy: 0.9209\n",
            "Epoch 6/20\n",
            "263/262 [==============================] - 84s 319ms/step - loss: 0.2384 - accuracy: 0.9095 - val_loss: 0.2003 - val_accuracy: 0.9213\n",
            "Epoch 7/20\n",
            "263/262 [==============================] - 84s 319ms/step - loss: 0.2157 - accuracy: 0.9193 - val_loss: 0.2307 - val_accuracy: 0.9077\n",
            "Epoch 8/20\n",
            "263/262 [==============================] - 84s 321ms/step - loss: 0.1966 - accuracy: 0.9287 - val_loss: 0.1843 - val_accuracy: 0.9321\n",
            "Epoch 9/20\n",
            "263/262 [==============================] - 85s 323ms/step - loss: 0.2085 - accuracy: 0.9199 - val_loss: 0.1745 - val_accuracy: 0.9345\n",
            "Epoch 10/20\n",
            "263/262 [==============================] - 84s 320ms/step - loss: 0.1730 - accuracy: 0.9356 - val_loss: 0.1785 - val_accuracy: 0.9341\n",
            "Epoch 11/20\n",
            "263/262 [==============================] - 84s 319ms/step - loss: 0.1734 - accuracy: 0.9363 - val_loss: 0.2191 - val_accuracy: 0.9197\n",
            "Epoch 12/20\n",
            "263/262 [==============================] - 84s 321ms/step - loss: 0.1531 - accuracy: 0.9424 - val_loss: 0.1764 - val_accuracy: 0.9301\n",
            "Epoch 13/20\n",
            "263/262 [==============================] - 84s 319ms/step - loss: 0.1577 - accuracy: 0.9426 - val_loss: 0.1402 - val_accuracy: 0.9457\n",
            "Epoch 14/20\n",
            "263/262 [==============================] - 84s 320ms/step - loss: 0.1301 - accuracy: 0.9505 - val_loss: 0.0870 - val_accuracy: 0.9645\n",
            "Epoch 15/20\n",
            "263/262 [==============================] - 84s 320ms/step - loss: 0.1500 - accuracy: 0.9446 - val_loss: 0.1179 - val_accuracy: 0.9573\n",
            "Epoch 16/20\n",
            "263/262 [==============================] - 85s 322ms/step - loss: 0.1419 - accuracy: 0.9475 - val_loss: 0.1196 - val_accuracy: 0.9565\n",
            "Epoch 17/20\n",
            "263/262 [==============================] - 84s 320ms/step - loss: 0.1117 - accuracy: 0.9587 - val_loss: 0.1323 - val_accuracy: 0.9525\n",
            "Epoch 18/20\n",
            "263/262 [==============================] - 84s 321ms/step - loss: 0.1187 - accuracy: 0.9555 - val_loss: 0.1064 - val_accuracy: 0.9617\n",
            "Epoch 19/20\n",
            "263/262 [==============================] - 85s 324ms/step - loss: 0.1263 - accuracy: 0.9526 - val_loss: 0.1013 - val_accuracy: 0.9641\n",
            "Epoch 20/20\n",
            "263/262 [==============================] - 85s 324ms/step - loss: 0.1006 - accuracy: 0.9622 - val_loss: 0.1034 - val_accuracy: 0.9601\n"
          ],
          "name": "stdout"
        }
      ]
    },
    {
      "cell_type": "markdown",
      "metadata": {
        "id": "r5a2n6lNocm0",
        "colab_type": "text"
      },
      "source": [
        "## Plot Loss and Accuracy"
      ]
    },
    {
      "cell_type": "code",
      "metadata": {
        "id": "BhrIeVg8237q",
        "colab_type": "code",
        "outputId": "9c546f06-f3c6-4579-8f4c-4fce9002dbd1",
        "colab": {
          "base_uri": "https://localhost:8080/",
          "height": 611
        }
      },
      "source": [
        "%matplotlib inline\n",
        "import matplotlib.image as mpimg\n",
        "import matplotlib.pyplot as plt\n",
        "\n",
        "acc = history.history['accuracy']\n",
        "val_acc = history.history['val_accuracy']\n",
        "loss = history.history['loss']\n",
        "val_loss = history.history['val_loss']\n",
        "\n",
        "epochs = range(len(acc))\n",
        "\n",
        "plt.plot(epochs, acc, 'r')\n",
        "plt.plot(epochs, val_acc, 'b')\n",
        "plt.title('Training and Validation Accuracy')\n",
        "plt.ylabel('accuracy')\n",
        "plt.xlabel('epoch')\n",
        "plt.legend(['train', 'val'], loc='upper left')\n",
        "plt.figure()\n",
        "\n",
        "plt.plot(epochs, loss, 'r')\n",
        "plt.plot(epochs, val_loss, 'b')\n",
        "plt.ylabel('loss')\n",
        "plt.xlabel('epoch')\n",
        "plt.legend(['train', 'val'], loc='upper left')\n",
        "plt.title('Training and Validaion Loss')\n",
        "plt.figure()"
      ],
      "execution_count": 113,
      "outputs": [
        {
          "output_type": "execute_result",
          "data": {
            "text/plain": [
              "<Figure size 432x288 with 0 Axes>"
            ]
          },
          "metadata": {
            "tags": []
          },
          "execution_count": 113
        },
        {
          "output_type": "display_data",
          "data": {
            "image/png": "[encoded data removed]",
            "text/plain": [
              "<Figure size 432x288 with 1 Axes>"
            ]
          },
          "metadata": {
            "tags": [],
            "needs_background": "light"
          }
        },
        {
          "output_type": "display_data",
          "data": {
            "image/png": "[encoded data removed]",
            "text/plain": [
              "<Figure size 432x288 with 1 Axes>"
            ]
          },
          "metadata": {
            "tags": [],
            "needs_background": "light"
          }
        },
        {
          "output_type": "display_data",
          "data": {
            "text/plain": [
              "<Figure size 432x288 with 0 Axes>"
            ]
          },
          "metadata": {
            "tags": []
          }
        }
      ]
    },
    {
      "cell_type": "markdown",
      "metadata": {
        "id": "PvKVUf0ggLm0",
        "colab_type": "text"
      },
      "source": [
        "## Evaluate Model"
      ]
    },
    {
      "cell_type": "code",
      "metadata": {
        "id": "NOyevWcdQaaL",
        "colab_type": "code",
        "colab": {
          "base_uri": "https://localhost:8080/",
          "height": 74
        },
        "outputId": "76805f4e-88fb-49e4-a810-5ed257bb810e"
      },
      "source": [
        "test_datagen = ImageDataGenerator(rescale=1./255)\n",
        "\n",
        "test_generator = test_datagen.flow_from_directory(test_dir,\n",
        "                                                  batch_size=1,\n",
        "                                                  target_size=(150, 150),\n",
        "                                                  shuffle = False,\n",
        "                                                  class_mode='categorical')\n",
        "\n",
        "filenames = test_generator.filenames\n",
        "nb_samples = len(filenames)\n",
        "\n",
        "loss, acc = model.evaluate(test_generator,steps = (nb_samples), verbose=1)\n",
        "print('accuracy test: ',acc)"
      ],
      "execution_count": 114,
      "outputs": [
        {
          "output_type": "stream",
          "text": [
            "Found 2698 images belonging to 6 classes.\n",
            "2698/2698 [==============================] - 15s 5ms/step - loss: 0.0654 - accuracy: 0.9737\n",
            "accuracy test:  0.9736841917037964\n"
          ],
          "name": "stdout"
        }
      ]
    },
    {
      "cell_type": "code",
      "metadata": {
        "id": "k3gNP80Jn3Ol",
        "colab_type": "code",
        "colab": {}
      },
      "source": [
        "model.save('model.h5')"
      ],
      "execution_count": 0,
      "outputs": []
    },
    {
      "cell_type": "markdown",
      "metadata": {
        "id": "g4tlL7l8ntki",
        "colab_type": "text"
      },
      "source": [
        "## Predict Image"
      ]
    },
    {
      "cell_type": "code",
      "metadata": {
        "id": "NQKR4RDK8qkf",
        "colab_type": "code",
        "outputId": "44069b56-3627-4278-edd6-de2c63229655",
        "colab": {
          "resources": {
            "http://localhost:8080/nbextensions/google.colab/files.js": {
              "data": "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",
              "ok": true,
              "headers": [
                [
                  "content-type",
                  "application/javascript"
                ]
              ],
              "status": 200,
              "status_text": ""
            }
          },
          "base_uri": "https://localhost:8080/",
          "height": 1000
        }
      },
      "source": [
        "from keras.preprocessing import image\n",
        "import cv2\n",
        "\n",
        "model_predict = tf.keras.models.load_model('model.h5')\n",
        "model_predict.compile(optimizer='adam',\n",
        "                      loss='categorical_crossentropy',\n",
        "                      metrics=['accuracy'])\n",
        "\n",
        "uploaded = files.upload()\n",
        "\n",
        "for fn in uploaded.keys():\n",
        "  path = fn\n",
        "  img = image.load_img(path, color_mode=\"rgb\", target_size=(150, 150), interpolation=\"nearest\")\n",
        "  imgplot = plt.imshow(img)\n",
        "  img = image.img_to_array(img)\n",
        "  img = np.expand_dims(img, axis=0)\n",
        "\n",
        "  # img = cv2.imread(path)\n",
        "  # imgplot = plt.imshow(img)\n",
        "  # img = cv2.resize(img,(150,150))\n",
        "  # img = np.reshape(img,[1, 150, 150, 3])\n",
        "\n",
        "  images = np.vstack([img])\n",
        "  classes = model_predict.predict(images, batch_size=10)\n",
        "\n",
        "  print(\"\")\n",
        "  print(fn)\n",
        "  print(classes)\n",
        "\n",
        "  max = np.amax(classes[0])\n",
        "  print(np.where(classes[0] == max)[0])\n",
        "  if np.where(classes[0] == max)[0] == 0:\n",
        "    print('Fresh Apple')\n",
        "  elif np.where(classes[0] == max)[0] == 1:\n",
        "    print('Fresh Banana')\n",
        "  elif np.where(classes[0] == max)[0] == 2:\n",
        "    print('Fresh Orange')\n",
        "  elif np.where(classes[0] == max)[0] == 3:\n",
        "    print('Rotten Apple')\n",
        "  elif np.where(classes[0] == max)[0] == 4:\n",
        "    print('Rotten Banana')\n",
        "  else:\n",
        "    print('Rotten orange')"
      ],
      "execution_count": 123,
      "outputs": [
        {
          "output_type": "display_data",
          "data": {
            "text/html": [
              "\n",
              "     <input type=\"file\" id=\"files-a3afced7-67cf-42ae-97a4-cc9ff14e1e4b\" name=\"files[]\" multiple disabled />\n",
              "     <output id=\"result-a3afced7-67cf-42ae-97a4-cc9ff14e1e4b\">\n",
              "      Upload widget is only available when the cell has been executed in the\n",
              "      current browser session. Please rerun this cell to enable.\n",
              "      </output>\n",
              "      <script src=\"/nbextensions/google.colab/files.js\"></script> "
            ],
            "text/plain": [
              "<IPython.core.display.HTML object>"
            ]
          },
          "metadata": {
            "tags": []
          }
        },
        {
          "output_type": "stream",
          "text": [
            "Saving fresh-banana.jpg to fresh-banana (1).jpg\n",
            "Saving fresh-banana2.jpg to fresh-banana2 (1).jpg\n",
            "Saving fresh-banana3.jpg to fresh-banana3 (1).jpg\n",
            "Saving rotten-banana.jpg to rotten-banana (1).jpg\n",
            "Saving rotten-banana2.jpg to rotten-banana2 (1).jpg\n",
            "Saving rotten-banana3.jpg to rotten-banana3 (1).jpg\n",
            "\n",
            "fresh-banana.jpg\n",
            "[[0. 0. 1. 0. 0. 0.]]\n",
            "[2]\n",
            "Fresh Orange\n",
            "\n",
            "fresh-banana2.jpg\n",
            "[[0. 1. 0. 0. 0. 0.]]\n",
            "[1]\n",
            "Fresh Banana\n",
            "\n",
            "fresh-banana3.jpg\n",
            "[[0. 1. 0. 0. 0. 0.]]\n",
            "[1]\n",
            "Fresh Banana\n",
            "\n",
            "rotten-banana.jpg\n",
            "[[0. 1. 0. 0. 0. 0.]]\n",
            "[1]\n",
            "Fresh Banana\n",
            "\n",
            "rotten-banana2.jpg\n",
            "[[0. 1. 0. 0. 0. 0.]]\n",
            "[1]\n",
            "Fresh Banana\n",
            "\n",
            "rotten-banana3.jpg\n",
            "[[0. 0. 0. 0. 1. 0.]]\n",
            "[4]\n",
            "Rotten Banana\n"
          ],
          "name": "stdout"
        },
        {
          "output_type": "display_data",
          "data": {
            "image/png": "[encoded data removed]",
            "text/plain": [
              "<Figure size 432x288 with 1 Axes>"
            ]
          },
          "metadata": {
            "tags": [],
            "needs_background": "light"
          }
        }
      ]
    }
  ]
}