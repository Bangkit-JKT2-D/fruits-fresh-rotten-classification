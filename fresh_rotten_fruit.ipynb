{
  "nbformat": 4,
  "nbformat_minor": 0,
  "metadata": {
    "colab": {
      "name": "fresh_rotten_fruit.ipynb",
      "provenance": []
    },
    "kernelspec": {
      "name": "python3",
      "display_name": "Python 3"
    },
    "accelerator": "GPU"
  },
  "cells": [
    {
      "cell_type": "markdown",
      "metadata": {
        "id": "hN6RPuLXpQDW",
        "colab_type": "text"
      },
      "source": [
        "## Import\n",
        "The following code imports the necessary code to run the code in the rest of this Colaboratory."
      ]
    },
    {
      "cell_type": "code",
      "metadata": {
        "id": "xjAU-S1tpYbe",
        "colab_type": "code",
        "colab": {}
      },
      "source": [
        "import os\n",
        "import zipfile\n",
        "import random\n",
        "import shutil\n",
        "import numpy as np\n",
        "from shutil import copyfile\n",
        "\n",
        "import tensorflow as tf\n",
        "from google.colab import files\n",
        "from tensorflow.keras.preprocessing.image import ImageDataGenerator"
      ],
      "execution_count": 0,
      "outputs": []
    },
    {
      "cell_type": "code",
      "metadata": {
        "id": "atlfTzNGp9Da",
        "colab_type": "code",
        "outputId": "2aa231b1-c024-49fa-efd4-3f4d6beed9f7",
        "colab": {
          "base_uri": "https://localhost:8080/",
          "height": 36
        }
      },
      "source": [
        "print(tf.__version__)"
      ],
      "execution_count": 2,
      "outputs": [
        {
          "output_type": "stream",
          "text": [
            "2.2.0\n"
          ],
          "name": "stdout"
        }
      ]
    },
    {
      "cell_type": "markdown",
      "metadata": {
        "id": "1j3qJS8OoKBn",
        "colab_type": "text"
      },
      "source": [
        "## Download Dataset\n",
        "Open this link to know how to get cookies.txt https://www.kaggle.com/general/51898"
      ]
    },
    {
      "cell_type": "code",
      "metadata": {
        "id": "UsdfCSNCGiFz",
        "colab_type": "code",
        "outputId": "e2ecf6d2-6cc0-4719-f00c-2dafde34f83f",
        "colab": {
          "resources": {
            "http://localhost:8080/nbextensions/google.colab/files.js": {
              "data": "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",
              "ok": true,
              "headers": [
                [
                  "content-type",
                  "application/javascript"
                ]
              ],
              "status": 200,
              "status_text": ""
            }
          },
          "base_uri": "https://localhost:8080/",
          "height": 115
        }
      },
      "source": [
        "#upload kaggle cookies\n",
        "files.upload()"
      ],
      "execution_count": 3,
      "outputs": [
        {
          "output_type": "display_data",
          "data": {
            "text/html": [
              "\n",
              "     <input type=\"file\" id=\"files-70c9d689-559c-480f-aff2-ab5e87e65d03\" name=\"files[]\" multiple disabled />\n",
              "     <output id=\"result-70c9d689-559c-480f-aff2-ab5e87e65d03\">\n",
              "      Upload widget is only available when the cell has been executed in the\n",
              "      current browser session. Please rerun this cell to enable.\n",
              "      </output>\n",
              "      <script src=\"/nbextensions/google.colab/files.js\"></script> "
            ],
            "text/plain": [
              "<IPython.core.display.HTML object>"
            ]
          },
          "metadata": {
            "tags": []
          }
        },
        {
          "output_type": "stream",
          "text": [
            "Saving cookies.txt to cookies (1).txt\n"
          ],
          "name": "stdout"
        },
        {
          "output_type": "execute_result",
          "data": {
            "text/plain": [
              "{'cookies.txt': b'# HTTP Cookie File downloaded with cookies.txt by Genuinous @genuinous\\n# This file can be used by wget, curl, aria2c and other standard compliant tools.\\n# Usage Examples:\\n#   1) wget -x --load-cookies cookies.txt \"https://www.kaggle.com/sriramr/fruits-fresh-and-rotten-for-classification/metadata\"\\n#   2) curl --cookie cookies.txt \"https://www.kaggle.com/sriramr/fruits-fresh-and-rotten-for-classification/metadata\"\\n#   3) aria2c --load-cookies cookies.txt \"https://www.kaggle.com/sriramr/fruits-fresh-and-rotten-for-classification/metadata\"\\n#\\nwww.kaggle.com\\tFALSE\\t/\\tFALSE\\t1605864030\\tka_sessionid\\td2e10809812a445d203c4deb1e76293d\\n.kaggle.com\\tTRUE\\t/\\tFALSE\\t1654297403\\t_ga\\tGA1.2.439737057.1590104673\\nwww.kaggle.com\\tFALSE\\t/\\tTRUE\\t1593143661\\t.ASPXAUTH\\tD7E34DA930A9A6B6D74653ED5B50D5ADAFA20E1E7D9BD2284D353A5706F38E4C5662184FC8744BA2AB29BF669DEA7A0F1F823CDC6C9A791D5360049A5C6D3DD60AB0FA3A20ED21CFFB42C4B66D820D8EECA81488\\n.kaggle.com\\tTRUE\\t/\\tFALSE\\t1591311803\\t_gid\\tGA1.2.958658708.1591093052\\nwww.kaggle.com\\tFALSE\\t/\\tTRUE\\t0\\tCSRF-TOKEN\\tCfDJ8LdUzqlsSWBPr4Ce3rb9VL9yHYdKxGHjeS1ARrmVNpV1QIAGyLoVV6zM5llPS1WuX9iGFrs9CoPA9hqMH4CyTvMA2E4rGgJI3D229H9dYdrb-s7QWnb4HmAjIoe6R8lnRhjDn0aHd1CttCM6kU-_k3w\\nwww.kaggle.com\\tFALSE\\t/\\tFALSE\\t0\\tGCLB\\tCKyvl7eSs7vOFA\\nwww.kaggle.com\\tFALSE\\t/\\tTRUE\\t0\\tXSRF-TOKEN\\tCfDJ8LdUzqlsSWBPr4Ce3rb9VL_wtqJgtgsdrdv1HVJ4cwlC3pLyfiKbD2ixpfNDBpkRM57HcRtA4OD75u-f_VgAs6XRXzZBKgfh8QilWL4hG1lBIOLcpeCAKesAkx7qoPtdS_meCJutiMC41ITR81cLJ01PlnEfFWezYQU-C8MfNE4YrsgoxgtRnzS8k06nYTlvsg\\nwww.kaggle.com\\tFALSE\\t/\\tTRUE\\t0\\tCLIENT-TOKEN\\teyJhbGciOiJub25lIiwidHlwIjoiSldUIn0.eyJpc3MiOiJrYWdnbGUiLCJhdWQiOiJjbGllbnQiLCJzdWIiOiJhZW1pcmFsZmF0aCIsIm5idCI6IjIwMjAtMDYtMDNUMjM6MDM6MjEuNTk2Nzk1OVoiLCJpYXQiOiIyMDIwLTA2LTAzVDIzOjAzOjIxLjU5Njc5NTlaIiwianRpIjoiMjk0MmNkYTctOTlkZi00ZGZiLWE1Y2QtYTg2NGVlOTRlODE4IiwiZXhwIjoiMjAyMC0wNy0wM1QyMzowMzoyMS41OTY3OTU5WiIsInVpZCI6MzYxOTk3NCwiZmYiOlsiRmxleGlibGVHcHUiLCJLZXJuZWxzSW50ZXJuZXQiLCJEYXRhRXhwbG9yZXJWMiIsIkRhdGFTb3VyY2VTZWxlY3RvclYyIiwiS2VybmVsc1ZpZXdlcklubmVyVGFibGVPZkNvbnRlbnRzIiwiRm9ydW1XYXRjaERlcHJlY2F0ZWQiLCJOZXdLZXJuZWxXZWxjb21lIiwiTWRlSW1hZ2VVcGxvYWRlciIsIktlcm5lbHNRdWlja1ZlcnNpb25zIiwiRGlzYWJsZUN1c3RvbVBhY2thZ2VzIiwiRG9ja2VyTW9kYWxTZWxlY3RvciIsIlBob25lVmVyaWZ5Rm9yR3B1IiwiQ2xvdWRTZXJ2aWNlc0tlcm5lbEludGVnIiwiVXNlclNlY3JldHNLZXJuZWxJbnRlZyIsIk5hdmlnYXRpb25SZWRlc2lnbiIsIktlcm5lbHNTbmlwcGV0cyIsIktlcm5lbFdlbGNvbWVMb2FkRnJvbVVybCIsIlRwdUtlcm5lbEludGVnIiwiS2VybmVsc0ZpcmViYXNlTG9uZ1BvbGxpbmciLCJEYXRhc2V0TGl2ZU1vdW50IiwiRW5hYmxlUmFwaWRhc2giLCJEYXRhc2V0c0RhdGFFeHBsb3JlclYzVHJlZUxlZnQiXSwicGlkIjoia2FnZ2xlLTE2MTYwNyIsInN2YyI6IndlYi1mZSIsInNkYWsiOiJBSXphU3lEQU5HWEZIdFNJVmM1MU1JZEd3ZzRtUUZnbTNvTnJLb28iLCJibGQiOiI1MmViNmMyODMxYjZiN2I2ZmIzMDllNDExMjE0ZGVjYjRhM2U1N2UyIn0.\\n.kaggle.com\\tTRUE\\t/\\tFALSE\\t1591830206\\tintercom-session-koj6gxx6\\tWEwvTzJsTUFiQ3B1QlZPRUJmaHhWcnJmZTlhOTVUTTUxUWNSNXFGbmJCbDg3VGNvV2xNYWM0WmFaZDRFOVlIWS0tUTJneEE0czludGdmTmJPZXlTd2RZZz09--5d572eb2430c72d1dc1cc47b38dba8e0f229fce7\\n'}"
            ]
          },
          "metadata": {
            "tags": []
          },
          "execution_count": 3
        }
      ]
    },
    {
      "cell_type": "code",
      "metadata": {
        "id": "bVIMuzaNnPHh",
        "colab_type": "code",
        "outputId": "be3d5ea4-9f39-4233-8496-cc6e670f850d",
        "colab": {
          "base_uri": "https://localhost:8080/",
          "height": 341
        }
      },
      "source": [
        "!wget --no-check-certificate -x --load-cookies cookies.txt \\\n",
        "  \"https://www.kaggle.com/sriramr/fruits-fresh-and-rotten-for-classification/download\" \\\n",
        "  -O /tmp/data.zip"
      ],
      "execution_count": 4,
      "outputs": [
        {
          "output_type": "stream",
          "text": [
            "--2020-06-14 10:58:51--  https://www.kaggle.com/sriramr/fruits-fresh-and-rotten-for-classification/download\n",
            "Resolving www.kaggle.com (www.kaggle.com)... 35.244.233.98\n",
            "Connecting to www.kaggle.com (www.kaggle.com)|35.244.233.98|:443... connected.\n",
            "HTTP request sent, awaiting response... 302 Found\n",
            "Location: https://storage.googleapis.com/kaggle-data-sets/46490%2F84555%2Fbundle%2Farchive.zip?GoogleAccessId=gcp-kaggle-com@kaggle-161607.iam.gserviceaccount.com&Expires=1592391531&Signature=M8PThzyOkhBGpb99BrWHuCQ4HKNVNjwllzjj7v2Rf6VhkPnn2fjHCJx4m7Gls8GbFzMEWVAnC%2BhWL2YBl4mR3LzJ91XH%2BefPEiqEN4S6%2FqozJSoc6tYiU6%2FhZuyKRNQZ7CySFhnY1px3JOI6XzSKKosrPC63N1vq%2BxwV7rIv8iXOO78eMQQhedR%2BZvno0Tv%2FwKNToJq8TsHXOjQ2fxMk7KpNqQGI2kfmdSB71g8zDqDVWWgfJueYaRLQqmY4U7SWKuUpf8M90AaASHNLlW83tJ%2BLKfzBG3vvbXDb9TDWcSgzLcVZCzH2pjU4Tz2yJ7KzF%2F%2F5Q6kosOMvE5Mgci6LDw%3D%3D [following]\n",
            "--2020-06-14 10:58:51--  https://storage.googleapis.com/kaggle-data-sets/46490%2F84555%2Fbundle%2Farchive.zip?GoogleAccessId=gcp-kaggle-com@kaggle-161607.iam.gserviceaccount.com&Expires=1592391531&Signature=M8PThzyOkhBGpb99BrWHuCQ4HKNVNjwllzjj7v2Rf6VhkPnn2fjHCJx4m7Gls8GbFzMEWVAnC%2BhWL2YBl4mR3LzJ91XH%2BefPEiqEN4S6%2FqozJSoc6tYiU6%2FhZuyKRNQZ7CySFhnY1px3JOI6XzSKKosrPC63N1vq%2BxwV7rIv8iXOO78eMQQhedR%2BZvno0Tv%2FwKNToJq8TsHXOjQ2fxMk7KpNqQGI2kfmdSB71g8zDqDVWWgfJueYaRLQqmY4U7SWKuUpf8M90AaASHNLlW83tJ%2BLKfzBG3vvbXDb9TDWcSgzLcVZCzH2pjU4Tz2yJ7KzF%2F%2F5Q6kosOMvE5Mgci6LDw%3D%3D\n",
            "Resolving storage.googleapis.com (storage.googleapis.com)... 108.177.125.128, 2404:6800:4008:c03::80\n",
            "Connecting to storage.googleapis.com (storage.googleapis.com)|108.177.125.128|:443... connected.\n",
            "HTTP request sent, awaiting response... 200 OK\n",
            "Length: 3845474308 (3.6G) [application/zip]\n",
            "Saving to: ‘/tmp/data.zip’\n",
            "\n",
            "/tmp/data.zip       100%[===================>]   3.58G  45.6MB/s    in 68s     \n",
            "\n",
            "2020-06-14 10:59:59 (54.2 MB/s) - ‘/tmp/data.zip’ saved [3845474308/3845474308]\n",
            "\n"
          ],
          "name": "stdout"
        }
      ]
    },
    {
      "cell_type": "markdown",
      "metadata": {
        "id": "5WzNVHRHpfhz",
        "colab_type": "text"
      },
      "source": [
        "## Extract Data"
      ]
    },
    {
      "cell_type": "code",
      "metadata": {
        "id": "ZJKWED5NpksW",
        "colab_type": "code",
        "colab": {}
      },
      "source": [
        "local_zip = '/tmp/data.zip'\n",
        "zip_ref = zipfile.ZipFile(local_zip, 'r')\n",
        "zip_ref.extractall('/tmp')\n",
        "zip_ref.close()"
      ],
      "execution_count": 0,
      "outputs": []
    },
    {
      "cell_type": "markdown",
      "metadata": {
        "id": "t1LLO9qcnbI3",
        "colab_type": "text"
      },
      "source": [
        "## Split Dataset to Train, Test and Validation"
      ]
    },
    {
      "cell_type": "code",
      "metadata": {
        "id": "hawHUrw0wk59",
        "colab_type": "code",
        "colab": {}
      },
      "source": [
        "def make_dir(PATH):\n",
        "  if not os.path.exists(PATH):\n",
        "      os.mkdir(PATH)\n",
        "      return PATH\n",
        "  else:\n",
        "    shutil.rmtree(PATH)\n",
        "    os.mkdir(PATH)\n",
        "    return PATH"
      ],
      "execution_count": 0,
      "outputs": []
    },
    {
      "cell_type": "code",
      "metadata": {
        "id": "cuYCDDB1pu9I",
        "colab_type": "code",
        "colab": {}
      },
      "source": [
        "try:\n",
        "    base_dir = '/tmp'\n",
        "    fruit_dir = make_dir(os.path.join(base_dir, 'fruit-dataset'))\n",
        "    train_dir = make_dir(os.path.join(fruit_dir, 'train'))\n",
        "    validation_dir = make_dir(os.path.join(fruit_dir, 'val'))\n",
        "    test_dir = make_dir(os.path.join(fruit_dir, 'test'))\n",
        "\n",
        "    train_fresh_apples_dir = make_dir(os.path.join(train_dir, 'Fresh Apples'))\n",
        "    train_fresh_bananas_dir = make_dir(os.path.join(train_dir, 'Fresh Bananas'))\n",
        "    train_fresh_oranges_dir = make_dir(os.path.join(train_dir, 'Fresh Oranges'))\n",
        "    train_rotten_apples_dir = make_dir(os.path.join(train_dir, 'Rotten Apples'))\n",
        "    train_rotten_bananas_dir = make_dir(os.path.join(train_dir, 'Rotten Bananas'))\n",
        "    train_rotten_oranges_dir = make_dir(os.path.join(train_dir, 'Rotten Oranges'))\n",
        "\n",
        "    validation_fresh_apples_dir = make_dir(os.path.join(validation_dir, 'Fresh Apples'))\n",
        "    validation_fresh_bananas_dir = make_dir(os.path.join(validation_dir, 'Fresh Bananas'))\n",
        "    validation_fresh_oranges_dir = make_dir(os.path.join(validation_dir, 'Fresh Oranges'))\n",
        "    validation_rotten_apples_dir = make_dir(os.path.join(validation_dir, 'Rotten Apples'))\n",
        "    validation_rotten_bananas_dir = make_dir(os.path.join(validation_dir, 'Rotten Bananas'))\n",
        "    validation_rotten_oranges_dir = make_dir(os.path.join(validation_dir, 'Rotten Oranges'))\n",
        "\n",
        "    test_fresh_apples_dir = make_dir(os.path.join(test_dir, 'Fresh Apples'))\n",
        "    test_fresh_bananas_dir = make_dir(os.path.join(test_dir, 'Fresh Bananas'))\n",
        "    test_fresh_oranges_dir = make_dir(os.path.join(test_dir, 'Fresh Oranges'))\n",
        "    test_rotten_apples_dir = make_dir(os.path.join(test_dir, 'Rotten Apples'))\n",
        "    test_rotten_bananas_dir = make_dir(os.path.join(test_dir, 'Rotten Bananas'))\n",
        "    test_rotten_oranges_dir = make_dir(os.path.join(test_dir, 'Rotten Oranges'))\n",
        "\n",
        "except OSError:\n",
        "    pass"
      ],
      "execution_count": 0,
      "outputs": []
    },
    {
      "cell_type": "code",
      "metadata": {
        "id": "xmMyaqbmpzfX",
        "colab_type": "code",
        "colab": {}
      },
      "source": [
        "from PIL import Image\n",
        "\n",
        "def split_data(SOURCE='', TRAINING='', VALIDATION='', SPLIT_SIZE=0):\n",
        "  data = os.listdir(SOURCE)\n",
        "  random_data = random.sample(data, len(data))\n",
        "\n",
        "  train_size = len(data)*SPLIT_SIZE\n",
        "\n",
        "  for i, filename in enumerate(random_data):\n",
        "    filepath = os.path.join(SOURCE, filename)\n",
        "    if os.path.getsize(filepath) > 0:\n",
        "      if i < train_size:\n",
        "        copyfile(filepath, os.path.join(TRAINING, filename))\n",
        "        # img = Image.open(os.path.join(TRAINING, filename)).convert('L')\n",
        "        # img.save(os.path.join(TRAINING, filename))\n",
        "      else:\n",
        "        copyfile(filepath, os.path.join(VALIDATION, filename))\n",
        "        # img = Image.open(os.path.join(VALIDATION, filename)).convert('L')\n",
        "        # img.save(os.path.join(VALIDATION, filename))"
      ],
      "execution_count": 0,
      "outputs": []
    },
    {
      "cell_type": "code",
      "metadata": {
        "id": "LgrZmUPtpOd2",
        "colab_type": "code",
        "outputId": "e7ecb08a-8bd7-4273-b7a0-bd96cbcc53d0",
        "colab": {
          "base_uri": "https://localhost:8080/",
          "height": 264
        }
      },
      "source": [
        "dataset_train_dir = '/tmp/dataset/train'\n",
        "dataset_test_dir = '/tmp/dataset/test'\n",
        "\n",
        "fapples_train_dir = os.path.join(dataset_train_dir, 'freshapples')\n",
        "fbananas_train_dir = os.path.join(dataset_train_dir, 'freshbanana')\n",
        "foranges_train_dir = os.path.join(dataset_train_dir, 'freshoranges')\n",
        "rapples_train_dir = os.path.join(dataset_train_dir, 'rottenapples')\n",
        "rbananas_train_dir = os.path.join(dataset_train_dir, 'rottenbanana')\n",
        "roranges_train_dir = os.path.join(dataset_train_dir, 'rottenoranges')\n",
        "\n",
        "fapples_test_dir = os.path.join(dataset_test_dir, 'freshapples')\n",
        "fbananas_test_dir = os.path.join(dataset_test_dir, 'freshbanana')\n",
        "foranges_test_dir = os.path.join(dataset_test_dir, 'freshoranges')\n",
        "rapples_test_dir = os.path.join(dataset_test_dir, 'rottenapples')\n",
        "rbananas_test_dir = os.path.join(dataset_test_dir, 'rottenbanana')\n",
        "roranges_test_dir = os.path.join(dataset_test_dir, 'rottenoranges')\n",
        "\n",
        "print('fapples_train images = ', len(os.listdir(fapples_train_dir)))\n",
        "print('fbananas_train images = ', len(os.listdir(fbananas_train_dir)))\n",
        "print('foranges_train images = ', len(os.listdir(foranges_train_dir)))\n",
        "print('rapples_train images = ', len(os.listdir(rapples_train_dir)))\n",
        "print('rbananas_train images = ', len(os.listdir(rbananas_train_dir)))\n",
        "print('roranges_train images = ', len(os.listdir(roranges_train_dir)))\n",
        "print()\n",
        "print('fapples_test images = ', len(os.listdir(fapples_test_dir)))\n",
        "print('fbananas_test images = ', len(os.listdir(fbananas_test_dir)))\n",
        "print('foranges_test images = ', len(os.listdir(foranges_test_dir)))\n",
        "print('rapples_test images = ', len(os.listdir(rapples_test_dir)))\n",
        "print('rbananas_test images = ', len(os.listdir(rbananas_test_dir)))\n",
        "print('roranges_test images = ', len(os.listdir(roranges_test_dir)))"
      ],
      "execution_count": 9,
      "outputs": [
        {
          "output_type": "stream",
          "text": [
            "fapples_train images =  1693\n",
            "fbananas_train images =  1581\n",
            "foranges_train images =  1466\n",
            "rapples_train images =  2342\n",
            "rbananas_train images =  2224\n",
            "roranges_train images =  1595\n",
            "\n",
            "fapples_test images =  395\n",
            "fbananas_test images =  381\n",
            "foranges_test images =  388\n",
            "rapples_test images =  601\n",
            "rbananas_test images =  530\n",
            "roranges_test images =  403\n"
          ],
          "name": "stdout"
        }
      ]
    },
    {
      "cell_type": "code",
      "metadata": {
        "id": "feno4qIJp17H",
        "colab_type": "code",
        "colab": {}
      },
      "source": [
        "SPLIT_SIZE = 0.77\n",
        "split_data(fapples_train_dir, train_fresh_apples_dir, validation_fresh_apples_dir, SPLIT_SIZE)\n",
        "split_data(fbananas_train_dir, train_fresh_bananas_dir, validation_fresh_bananas_dir, SPLIT_SIZE)\n",
        "split_data(foranges_train_dir, train_fresh_oranges_dir, validation_fresh_oranges_dir, SPLIT_SIZE)\n",
        "split_data(rapples_train_dir, train_rotten_apples_dir, validation_rotten_apples_dir, SPLIT_SIZE)\n",
        "split_data(rbananas_train_dir, train_rotten_bananas_dir, validation_rotten_bananas_dir, SPLIT_SIZE)\n",
        "split_data(roranges_train_dir, train_rotten_oranges_dir, validation_rotten_oranges_dir, SPLIT_SIZE)\n",
        "\n",
        "SPLIT_SIZE = 1.0\n",
        "split_data(fapples_test_dir, test_fresh_apples_dir, validation_fresh_apples_dir, SPLIT_SIZE)\n",
        "split_data(fbananas_test_dir, test_fresh_bananas_dir, validation_fresh_bananas_dir, SPLIT_SIZE)\n",
        "split_data(foranges_test_dir, test_fresh_oranges_dir, validation_fresh_oranges_dir, SPLIT_SIZE)\n",
        "split_data(rapples_test_dir, test_rotten_apples_dir, validation_rotten_apples_dir, SPLIT_SIZE)\n",
        "split_data(rbananas_test_dir, test_rotten_bananas_dir, validation_rotten_bananas_dir, SPLIT_SIZE)\n",
        "split_data(roranges_test_dir, test_rotten_oranges_dir, validation_rotten_oranges_dir, SPLIT_SIZE)"
      ],
      "execution_count": 0,
      "outputs": []
    },
    {
      "cell_type": "code",
      "metadata": {
        "id": "giGseJnkzm1Q",
        "colab_type": "code",
        "outputId": "c4ab0f01-921f-4072-a0c4-c184786b2b7d",
        "colab": {
          "base_uri": "https://localhost:8080/",
          "height": 397
        }
      },
      "source": [
        "print(len(os.listdir('/tmp/fruit-dataset/train/Fresh Apples/')))\n",
        "print(len(os.listdir('/tmp/fruit-dataset/train/Fresh Bananas/')))\n",
        "print(len(os.listdir('/tmp/fruit-dataset/train/Fresh Oranges/')))\n",
        "print(len(os.listdir('/tmp/fruit-dataset/train/Rotten Apples/')))\n",
        "print(len(os.listdir('/tmp/fruit-dataset/train/Rotten Bananas/')))\n",
        "print(len(os.listdir('/tmp/fruit-dataset/train/Rotten Oranges/')))\n",
        "print()\n",
        "print(len(os.listdir('/tmp/fruit-dataset/val/Fresh Apples/')))\n",
        "print(len(os.listdir('/tmp/fruit-dataset/val/Fresh Bananas/')))\n",
        "print(len(os.listdir('/tmp/fruit-dataset/val/Fresh Oranges/')))\n",
        "print(len(os.listdir('/tmp/fruit-dataset/val/Rotten Apples/')))\n",
        "print(len(os.listdir('/tmp/fruit-dataset/val/Rotten Bananas/')))\n",
        "print(len(os.listdir('/tmp/fruit-dataset/val/Rotten Oranges/')))\n",
        "print()\n",
        "print(len(os.listdir('/tmp/fruit-dataset/test/Fresh Apples/')))\n",
        "print(len(os.listdir('/tmp/fruit-dataset/test/Fresh Bananas/')))\n",
        "print(len(os.listdir('/tmp/fruit-dataset/test/Fresh Oranges/')))\n",
        "print(len(os.listdir('/tmp/fruit-dataset/test/Rotten Apples/')))\n",
        "print(len(os.listdir('/tmp/fruit-dataset/test/Rotten Bananas/')))\n",
        "print(len(os.listdir('/tmp/fruit-dataset/test/Rotten Oranges/')))"
      ],
      "execution_count": 11,
      "outputs": [
        {
          "output_type": "stream",
          "text": [
            "1304\n",
            "1218\n",
            "1129\n",
            "1804\n",
            "1713\n",
            "1229\n",
            "\n",
            "389\n",
            "363\n",
            "337\n",
            "538\n",
            "511\n",
            "366\n",
            "\n",
            "395\n",
            "381\n",
            "388\n",
            "601\n",
            "530\n",
            "403\n"
          ],
          "name": "stdout"
        }
      ]
    },
    {
      "cell_type": "markdown",
      "metadata": {
        "id": "avKnfQCYniuo",
        "colab_type": "text"
      },
      "source": [
        "## Augmentation"
      ]
    },
    {
      "cell_type": "code",
      "metadata": {
        "id": "c1ZotiW51xSM",
        "colab_type": "code",
        "colab": {}
      },
      "source": [
        "train_datagen = ImageDataGenerator(\n",
        "    rescale=1./255,\n",
        "    # rotation_range=40, #20, 40, 60\n",
        "    # width_shift_range=0.2,\n",
        "    # height_shift_range=0.2,\n",
        "    # shear_range=0.2,\n",
        "    # zoom_range=0.2,\n",
        "    # horizontal_flip=True,\n",
        "    vertical_flip=True,\n",
        "    fill_mode='nearest'\n",
        ")\n",
        "\n",
        "validation_datagen = ImageDataGenerator(\n",
        "    rescale=1./255\n",
        ")"
      ],
      "execution_count": 0,
      "outputs": []
    },
    {
      "cell_type": "markdown",
      "metadata": {
        "id": "boND1dnBnmO8",
        "colab_type": "text"
      },
      "source": [
        "## Image Data Generator"
      ]
    },
    {
      "cell_type": "code",
      "metadata": {
        "id": "71theQtN1uby",
        "colab_type": "code",
        "outputId": "5dbbe6b2-ee2d-44b9-ae65-14753385bdf7",
        "colab": {
          "base_uri": "https://localhost:8080/",
          "height": 55
        }
      },
      "source": [
        "train_generator = train_datagen.flow_from_directory(train_dir,\n",
        "                                                    batch_size=32,\n",
        "                                                    color_mode=\"rgb\",\n",
        "                                                    # shuffle = False,\n",
        "                                                    target_size=(150,150), #?\n",
        "                                                    class_mode='categorical')\n",
        "\n",
        "validation_generator = train_datagen.flow_from_directory(validation_dir,\n",
        "                                                         batch_size=32,\n",
        "                                                         color_mode=\"rgb\",\n",
        "                                                         # shuffle = False,\n",
        "                                                         target_size=(150,150), #?\n",
        "                                                         class_mode='categorical')"
      ],
      "execution_count": 13,
      "outputs": [
        {
          "output_type": "stream",
          "text": [
            "Found 8397 images belonging to 6 classes.\n",
            "Found 2504 images belonging to 6 classes.\n"
          ],
          "name": "stdout"
        }
      ]
    },
    {
      "cell_type": "markdown",
      "metadata": {
        "id": "0iLWWXPZoWTs",
        "colab_type": "text"
      },
      "source": [
        "## Callbacks"
      ]
    },
    {
      "cell_type": "code",
      "metadata": {
        "id": "sK3z_ORJ4x5m",
        "colab_type": "code",
        "colab": {}
      },
      "source": [
        "class myCallback(tf.keras.callbacks.Callback):\n",
        "  def on_epoch_end(self, epoch, logs={}):\n",
        "    if(logs.get('accuracy') > 0.99):\n",
        "      print(\"\\nReached 98% accuracy. Stop Training\")\n",
        "      self.model.stop_training = True\n",
        "\n",
        "callbacks = myCallback()"
      ],
      "execution_count": 0,
      "outputs": []
    },
    {
      "cell_type": "markdown",
      "metadata": {
        "id": "PIEmked8npyF",
        "colab_type": "text"
      },
      "source": [
        "## Sequential Model"
      ]
    },
    {
      "cell_type": "code",
      "metadata": {
        "id": "_gvnMiWD0j90",
        "colab_type": "code",
        "outputId": "5a99b85f-4e15-44f1-fb89-68de0591f3af",
        "colab": {
          "base_uri": "https://localhost:8080/",
          "height": 511
        }
      },
      "source": [
        "#if you want to use tranfer learning, skip this cell\n",
        "model = tf.keras.models.Sequential([\n",
        "    tf.keras.layers.Conv2D(32, (3,3), activation='relu', input_shape=(150, 150, 3)),\n",
        "    tf.keras.layers.MaxPooling2D(2,2),\n",
        "    # tf.keras.layers.Dropout(0.2),\n",
        "    tf.keras.layers.Conv2D(64, (3,3), activation='relu'),\n",
        "    tf.keras.layers.MaxPooling2D(2,2),\n",
        "    # tf.keras.layers.Dropout(0.2),\n",
        "    tf.keras.layers.Conv2D(128, (3,3), activation='relu'),\n",
        "    tf.keras.layers.MaxPooling2D(2,2),\n",
        "    # tf.keras.layers.Dropout(0.2),\n",
        "    tf.keras.layers.Flatten(),\n",
        "    tf.keras.layers.Dense(512, activation='relu'),\n",
        "    # tf.keras.layers.Dropout(0.2),\n",
        "    tf.keras.layers.Dense(6, activation='softmax')\n",
        "])\n",
        "\n",
        "model.compile(optimizer='adam',\n",
        "              loss='categorical_crossentropy',\n",
        "              metrics=['accuracy'])\n",
        "\n",
        "model.summary()"
      ],
      "execution_count": 22,
      "outputs": [
        {
          "output_type": "stream",
          "text": [
            "Model: \"sequential_1\"\n",
            "_________________________________________________________________\n",
            "Layer (type)                 Output Shape              Param #   \n",
            "=================================================================\n",
            "conv2d_3 (Conv2D)            (None, 148, 148, 32)      896       \n",
            "_________________________________________________________________\n",
            "max_pooling2d_3 (MaxPooling2 (None, 74, 74, 32)        0         \n",
            "_________________________________________________________________\n",
            "conv2d_4 (Conv2D)            (None, 72, 72, 64)        18496     \n",
            "_________________________________________________________________\n",
            "max_pooling2d_4 (MaxPooling2 (None, 36, 36, 64)        0         \n",
            "_________________________________________________________________\n",
            "conv2d_5 (Conv2D)            (None, 34, 34, 128)       73856     \n",
            "_________________________________________________________________\n",
            "max_pooling2d_5 (MaxPooling2 (None, 17, 17, 128)       0         \n",
            "_________________________________________________________________\n",
            "flatten_1 (Flatten)          (None, 36992)             0         \n",
            "_________________________________________________________________\n",
            "dense_2 (Dense)              (None, 512)               18940416  \n",
            "_________________________________________________________________\n",
            "dense_3 (Dense)              (None, 6)                 3078      \n",
            "=================================================================\n",
            "Total params: 19,036,742\n",
            "Trainable params: 19,036,742\n",
            "Non-trainable params: 0\n",
            "_________________________________________________________________\n"
          ],
          "name": "stdout"
        }
      ]
    },
    {
      "cell_type": "code",
      "metadata": {
        "id": "4wC-KOOQBSoe",
        "colab_type": "code",
        "colab": {}
      },
      "source": [
        "from tensorflow.keras.applications import InceptionV3, MobileNetV2, ResNet50\n",
        "from tensorflow.keras import layers\n",
        "from tensorflow.keras import Model\n",
        "\n",
        "####################### init pre_trained_model #################################\n",
        "\n",
        "pre_trained_model = InceptionV3(input_shape=(150,150,3),\n",
        "                                include_top=False,\n",
        "                                weights='imagenet')\n",
        "\n",
        "# pre_trained_model = MobileNetV2(input_shape=(150,150,3),\n",
        "#                                 include_top=False,\n",
        "#                                 weights='imagenet')\n",
        "\n",
        "# pre_trained_model = VGG16(input_shape=(150,150,3),\n",
        "#                           include_top=False,\n",
        "#                           pooling='avg')\n",
        "\n",
        "pre_trained_model.layers.pop()\n",
        "\n",
        "####################### init pre_trained_model #################################\n",
        "\n",
        "############################## freeze layer ####################################\n",
        "\n",
        "for layer in pre_trained_model.layers:\n",
        "    layer.trainable = False\n",
        "\n",
        "# for layer in pre_trained_model.layers[:-4]:\n",
        "#     layer.trainable = False\n",
        "\n",
        "############################## freeze layer ####################################\n",
        "\n",
        "############################## Flatten Layer ###################################\n",
        "\n",
        "# last_layer = pre_trained_model.get_layer('mixed7')\n",
        "# last_output = last_layer.output\n",
        "# x = layers.Flatten()(last_output)\n",
        "\n",
        "x = layers.Flatten()(pre_trained_model.output)\n",
        "\n",
        "############################## Flatten Layer ###################################\n",
        "\n",
        "######################### Fully Connected Layer ################################\n",
        "\n",
        "x = layers.Dense(1024, activation='relu')(x)\n",
        "x = layers.Dropout(0.2)(x) \n",
        "x = layers.Dense(6, activation='softmax')(x)\n",
        "\n",
        "######################### Fully Connected Layer ################################\n",
        "\n",
        "model = Model(pre_trained_model.input, x) \n",
        "model.compile(optimizer='adam',\n",
        "              loss='categorical_crossentropy',\n",
        "              metrics=['accuracy'])\n",
        "\n",
        "# model.summary()"
      ],
      "execution_count": 0,
      "outputs": []
    },
    {
      "cell_type": "code",
      "metadata": {
        "id": "U91Jl7OgJj0I",
        "colab_type": "code",
        "outputId": "432df3eb-9da4-4942-faaf-470911550227",
        "colab": {
          "base_uri": "https://localhost:8080/",
          "height": 55
        }
      },
      "source": [
        "train_len = 0\n",
        "for foldername in os.listdir('/tmp/fruit-dataset/train'):\n",
        "    train_len = train_len + len(os.listdir(os.path.join('/tmp/fruit-dataset/train',foldername)))\n",
        "    \n",
        "val_len = 0\n",
        "for foldername in os.listdir('/tmp/fruit-dataset/val'):\n",
        "    val_len = val_len + len(os.listdir(os.path.join('/tmp/fruit-dataset/val',foldername)))\n",
        "\n",
        "print(train_len)\n",
        "print(val_len)"
      ],
      "execution_count": 72,
      "outputs": [
        {
          "output_type": "stream",
          "text": [
            "8397\n",
            "2504\n"
          ],
          "name": "stdout"
        }
      ]
    },
    {
      "cell_type": "code",
      "metadata": {
        "id": "G_gyoqb42rpK",
        "colab_type": "code",
        "outputId": "cce37c75-9f7b-490b-a6d7-334985637baa",
        "colab": {
          "base_uri": "https://localhost:8080/",
          "height": 131
        }
      },
      "source": [
        "history = model.fit(\n",
        "    train_generator,\n",
        "    steps_per_epoch=(train_len/32),\n",
        "    epochs=3,\n",
        "    verbose=1,\n",
        "    callbacks=[callbacks],\n",
        "    validation_data=validation_generator,\n",
        "    validation_steps=(val_len/32)\n",
        ")"
      ],
      "execution_count": 73,
      "outputs": [
        {
          "output_type": "stream",
          "text": [
            "Epoch 1/3\n",
            "263/262 [==============================] - 52s 196ms/step - loss: 3.0116 - accuracy: 0.8881 - val_loss: 0.2965 - val_accuracy: 0.9245\n",
            "Epoch 2/3\n",
            "263/262 [==============================] - 51s 194ms/step - loss: 0.1466 - accuracy: 0.9547 - val_loss: 0.1017 - val_accuracy: 0.9720\n",
            "Epoch 3/3\n",
            "263/262 [==============================] - 50s 190ms/step - loss: 0.1290 - accuracy: 0.9636 - val_loss: 0.1393 - val_accuracy: 0.9569\n"
          ],
          "name": "stdout"
        }
      ]
    },
    {
      "cell_type": "markdown",
      "metadata": {
        "id": "r5a2n6lNocm0",
        "colab_type": "text"
      },
      "source": [
        "## Plot Loss and Accuracy"
      ]
    },
    {
      "cell_type": "code",
      "metadata": {
        "id": "BhrIeVg8237q",
        "colab_type": "code",
        "outputId": "d90ce128-470c-45b2-d2a6-0bed2c07cac3",
        "colab": {
          "base_uri": "https://localhost:8080/",
          "height": 611
        }
      },
      "source": [
        "%matplotlib inline\n",
        "import matplotlib.image as mpimg\n",
        "import matplotlib.pyplot as plt\n",
        "\n",
        "acc = history.history['accuracy']\n",
        "val_acc = history.history['val_accuracy']\n",
        "loss = history.history['loss']\n",
        "val_loss = history.history['val_loss']\n",
        "\n",
        "epochs = range(len(acc))\n",
        "\n",
        "plt.plot(epochs, acc, 'r')\n",
        "plt.plot(epochs, val_acc, 'b')\n",
        "plt.title('Training and Validation Accuracy')\n",
        "plt.ylabel('accuracy')\n",
        "plt.xlabel('epoch')\n",
        "plt.legend(['train', 'val'], loc='upper left')\n",
        "plt.figure()\n",
        "\n",
        "plt.plot(epochs, loss, 'r')\n",
        "plt.plot(epochs, val_loss, 'b')\n",
        "plt.ylabel('loss')\n",
        "plt.xlabel('epoch')\n",
        "plt.legend(['train', 'val'], loc='upper left')\n",
        "plt.title('Training and Validaion Loss')\n",
        "plt.figure()"
      ],
      "execution_count": 74,
      "outputs": [
        {
          "output_type": "execute_result",
          "data": {
            "text/plain": [
              "<Figure size 432x288 with 0 Axes>"
            ]
          },
          "metadata": {
            "tags": []
          },
          "execution_count": 74
        },
        {
          "output_type": "display_data",
          "data": {
            "image/png": "[encoded data removed]",
            "text/plain": [
              "<Figure size 432x288 with 1 Axes>"
            ]
          },
          "metadata": {
            "tags": [],
            "needs_background": "light"
          }
        },
        {
          "output_type": "display_data",
          "data": {
            "image/png": "[encoded data removed]",
            "text/plain": [
              "<Figure size 432x288 with 1 Axes>"
            ]
          },
          "metadata": {
            "tags": [],
            "needs_background": "light"
          }
        },
        {
          "output_type": "display_data",
          "data": {
            "text/plain": [
              "<Figure size 432x288 with 0 Axes>"
            ]
          },
          "metadata": {
            "tags": []
          }
        }
      ]
    },
    {
      "cell_type": "markdown",
      "metadata": {
        "id": "PvKVUf0ggLm0",
        "colab_type": "text"
      },
      "source": [
        "## Evaluate Model"
      ]
    },
    {
      "cell_type": "code",
      "metadata": {
        "id": "NOyevWcdQaaL",
        "colab_type": "code",
        "outputId": "91ce9119-6e8d-4dc6-aacc-ecf950d5a6c1",
        "colab": {
          "base_uri": "https://localhost:8080/",
          "height": 74
        }
      },
      "source": [
        "test_datagen = ImageDataGenerator(rescale=1./255)\n",
        "\n",
        "test_generator = test_datagen.flow_from_directory(test_dir,\n",
        "                                                  batch_size=1,\n",
        "                                                  target_size=(150, 150),\n",
        "                                                  shuffle = False,\n",
        "                                                  class_mode='categorical')\n",
        "\n",
        "filenames = test_generator.filenames\n",
        "nb_samples = len(filenames)\n",
        "\n",
        "loss, acc = model.evaluate(test_generator,steps = (nb_samples), verbose=1)\n",
        "print('accuracy test: ',acc)"
      ],
      "execution_count": 75,
      "outputs": [
        {
          "output_type": "stream",
          "text": [
            "Found 2698 images belonging to 6 classes.\n",
            "2698/2698 [==============================] - 55s 20ms/step - loss: 0.1424 - accuracy: 0.9589\n",
            "accuracy test:  0.9588584303855896\n"
          ],
          "name": "stdout"
        }
      ]
    },
    {
      "cell_type": "code",
      "metadata": {
        "id": "k3gNP80Jn3Ol",
        "colab_type": "code",
        "colab": {}
      },
      "source": [
        "model.save('model.h5')"
      ],
      "execution_count": 0,
      "outputs": []
    },
    {
      "cell_type": "markdown",
      "metadata": {
        "id": "g4tlL7l8ntki",
        "colab_type": "text"
      },
      "source": [
        "## Predict Image"
      ]
    },
    {
      "cell_type": "code",
      "metadata": {
        "id": "NQKR4RDK8qkf",
        "colab_type": "code",
        "outputId": "ae8bb935-4103-4e44-9129-cb07a6e1759b",
        "colab": {
          "resources": {
            "http://localhost:8080/nbextensions/google.colab/files.js": {
              "data": "Ly8gQ29weXJpZ2h0IDIwMTcgR29vZ2xlIExMQwovLwovLyBMaWNlbnNlZCB1bmRlciB0aGUgQXBhY2hlIExpY2Vuc2UsIFZlcnNpb24gMi4wICh0aGUgIkxpY2Vuc2UiKTsKLy8geW91IG1heSBub3QgdXNlIHRoaXMgZmlsZSBleGNlcHQgaW4gY29tcGxpYW5jZSB3aXRoIHRoZSBMaWNlbnNlLgovLyBZb3UgbWF5IG9idGFpbiBhIGNvcHkgb2YgdGhlIExpY2Vuc2UgYXQKLy8KLy8gICAgICBodHRwOi8vd3d3LmFwYWNoZS5vcmcvbGljZW5zZXMvTElDRU5TRS0yLjAKLy8KLy8gVW5sZXNzIHJlcXVpcmVkIGJ5IGFwcGxpY2FibGUgbGF3IG9yIGFncmVlZCB0byBpbiB3cml0aW5nLCBzb2Z0d2FyZQovLyBkaXN0cmlidXRlZCB1bmRlciB0aGUgTGljZW5zZSBpcyBkaXN0cmlidXRlZCBvbiBhbiAiQVMgSVMiIEJBU0lTLAovLyBXSVRIT1VUIFdBUlJBTlRJRVMgT1IgQ09ORElUSU9OUyBPRiBBTlkgS0lORCwgZWl0aGVyIGV4cHJlc3Mgb3IgaW1wbGllZC4KLy8gU2VlIHRoZSBMaWNlbnNlIGZvciB0aGUgc3BlY2lmaWMgbGFuZ3VhZ2UgZ292ZXJuaW5nIHBlcm1pc3Npb25zIGFuZAovLyBsaW1pdGF0aW9ucyB1bmRlciB0aGUgTGljZW5zZS4KCi8qKgogKiBAZmlsZW92ZXJ2aWV3IEhlbHBlcnMgZm9yIGdvb2dsZS5jb2xhYiBQeXRob24gbW9kdWxlLgogKi8KKGZ1bmN0aW9uKHNjb3BlKSB7CmZ1bmN0aW9uIHNwYW4odGV4dCwgc3R5bGVBdHRyaWJ1dGVzID0ge30pIHsKICBjb25zdCBlbGVtZW50ID0gZG9jdW1lbnQuY3JlYXRlRWxlbWVudCgnc3BhbicpOwogIGVsZW1lbnQudGV4dENvbnRlbnQgPSB0ZXh0OwogIGZvciAoY29uc3Qga2V5IG9mIE9iamVjdC5rZXlzKHN0eWxlQXR0cmlidXRlcykpIHsKICAgIGVsZW1lbnQuc3R5bGVba2V5XSA9IHN0eWxlQXR0cmlidXRlc1trZXldOwogIH0KICByZXR1cm4gZWxlbWVudDsKfQoKLy8gTWF4IG51bWJlciBvZiBieXRlcyB3aGljaCB3aWxsIGJlIHVwbG9hZGVkIGF0IGEgdGltZS4KY29uc3QgTUFYX1BBWUxPQURfU0laRSA9IDEwMCAqIDEwMjQ7Ci8vIE1heCBhbW91bnQgb2YgdGltZSB0byBibG9jayB3YWl0aW5nIGZvciB0aGUgdXNlci4KY29uc3QgRklMRV9DSEFOR0VfVElNRU9VVF9NUyA9IDMwICogMTAwMDsKCmZ1bmN0aW9uIF91cGxvYWRGaWxlcyhpbnB1dElkLCBvdXRwdXRJZCkgewogIGNvbnN0IHN0ZXBzID0gdXBsb2FkRmlsZXNTdGVwKGlucHV0SWQsIG91dHB1dElkKTsKICBjb25zdCBvdXRwdXRFbGVtZW50ID0gZG9jdW1lbnQuZ2V0RWxlbWVudEJ5SWQob3V0cHV0SWQpOwogIC8vIENhY2hlIHN0ZXBzIG9uIHRoZSBvdXRwdXRFbGVtZW50IHRvIG1ha2UgaXQgYXZhaWxhYmxlIGZvciB0aGUgbmV4dCBjYWxsCiAgLy8gdG8gdXBsb2FkRmlsZXNDb250aW51ZSBmcm9tIFB5dGhvbi4KICBvdXRwdXRFbGVtZW50LnN0ZXBzID0gc3RlcHM7CgogIHJldHVybiBfdXBsb2FkRmlsZXNDb250aW51ZShvdXRwdXRJZCk7Cn0KCi8vIFRoaXMgaXMgcm91Z2hseSBhbiBhc3luYyBnZW5lcmF0b3IgKG5vdCBzdXBwb3J0ZWQgaW4gdGhlIGJyb3dzZXIgeWV0KSwKLy8gd2hlcmUgdGhlcmUgYXJlIG11bHRpcGxlIGFzeW5jaHJvbm91cyBzdGVwcyBhbmQgdGhlIFB5dGhvbiBzaWRlIGlzIGdvaW5nCi8vIHRvIHBvbGwgZm9yIGNvbXBsZXRpb24gb2YgZWFjaCBzdGVwLgovLyBUaGlzIHVzZXMgYSBQcm9taXNlIHRvIGJsb2NrIHRoZSBweXRob24gc2lkZSBvbiBjb21wbGV0aW9uIG9mIGVhY2ggc3RlcCwKLy8gdGhlbiBwYXNzZXMgdGhlIHJlc3VsdCBvZiB0aGUgcHJldmlvdXMgc3RlcCBhcyB0aGUgaW5wdXQgdG8gdGhlIG5leHQgc3RlcC4KZnVuY3Rpb24gX3VwbG9hZEZpbGVzQ29udGludWUob3V0cHV0SWQpIHsKICBjb25zdCBvdXRwdXRFbGVtZW50ID0gZG9jdW1lbnQuZ2V0RWxlbWVudEJ5SWQob3V0cHV0SWQpOwogIGNvbnN0IHN0ZXBzID0gb3V0cHV0RWxlbWVudC5zdGVwczsKCiAgY29uc3QgbmV4dCA9IHN0ZXBzLm5leHQob3V0cHV0RWxlbWVudC5sYXN0UHJvbWlzZVZhbHVlKTsKICByZXR1cm4gUHJvbWlzZS5yZXNvbHZlKG5leHQudmFsdWUucHJvbWlzZSkudGhlbigodmFsdWUpID0+IHsKICAgIC8vIENhY2hlIHRoZSBsYXN0IHByb21pc2UgdmFsdWUgdG8gbWFrZSBpdCBhdmFpbGFibGUgdG8gdGhlIG5leHQKICAgIC8vIHN0ZXAgb2YgdGhlIGdlbmVyYXRvci4KICAgIG91dHB1dEVsZW1lbnQubGFzdFByb21pc2VWYWx1ZSA9IHZhbHVlOwogICAgcmV0dXJuIG5leHQudmFsdWUucmVzcG9uc2U7CiAgfSk7Cn0KCi8qKgogKiBHZW5lcmF0b3IgZnVuY3Rpb24gd2hpY2ggaXMgY2FsbGVkIGJldHdlZW4gZWFjaCBhc3luYyBzdGVwIG9mIHRoZSB1cGxvYWQKICogcHJvY2Vzcy4KICogQHBhcmFtIHtzdHJpbmd9IGlucHV0SWQgRWxlbWVudCBJRCBvZiB0aGUgaW5wdXQgZmlsZSBwaWNrZXIgZWxlbWVudC4KICogQHBhcmFtIHtzdHJpbmd9IG91dHB1dElkIEVsZW1lbnQgSUQgb2YgdGhlIG91dHB1dCBkaXNwbGF5LgogKiBAcmV0dXJuIHshSXRlcmFibGU8IU9iamVjdD59IEl0ZXJhYmxlIG9mIG5leHQgc3RlcHMuCiAqLwpmdW5jdGlvbiogdXBsb2FkRmlsZXNTdGVwKGlucHV0SWQsIG91dHB1dElkKSB7CiAgY29uc3QgaW5wdXRFbGVtZW50ID0gZG9jdW1lbnQuZ2V0RWxlbWVudEJ5SWQoaW5wdXRJZCk7CiAgaW5wdXRFbGVtZW50LmRpc2FibGVkID0gZmFsc2U7CgogIGNvbnN0IG91dHB1dEVsZW1lbnQgPSBkb2N1bWVudC5nZXRFbGVtZW50QnlJZChvdXRwdXRJZCk7CiAgb3V0cHV0RWxlbWVudC5pbm5lckhUTUwgPSAnJzsKCiAgY29uc3QgcGlja2VkUHJvbWlzZSA9IG5ldyBQcm9taXNlKChyZXNvbHZlKSA9PiB7CiAgICBpbnB1dEVsZW1lbnQuYWRkRXZlbnRMaXN0ZW5lcignY2hhbmdlJywgKGUpID0+IHsKICAgICAgcmVzb2x2ZShlLnRhcmdldC5maWxlcyk7CiAgICB9KTsKICB9KTsKCiAgY29uc3QgY2FuY2VsID0gZG9jdW1lbnQuY3JlYXRlRWxlbWVudCgnYnV0dG9uJyk7CiAgaW5wdXRFbGVtZW50LnBhcmVudEVsZW1lbnQuYXBwZW5kQ2hpbGQoY2FuY2VsKTsKICBjYW5jZWwudGV4dENvbnRlbnQgPSAnQ2FuY2VsIHVwbG9hZCc7CiAgY29uc3QgY2FuY2VsUHJvbWlzZSA9IG5ldyBQcm9taXNlKChyZXNvbHZlKSA9PiB7CiAgICBjYW5jZWwub25jbGljayA9ICgpID0+IHsKICAgICAgcmVzb2x2ZShudWxsKTsKICAgIH07CiAgfSk7CgogIC8vIENhbmNlbCB1cGxvYWQgaWYgdXNlciBoYXNuJ3QgcGlja2VkIGFueXRoaW5nIGluIHRpbWVvdXQuCiAgY29uc3QgdGltZW91dFByb21pc2UgPSBuZXcgUHJvbWlzZSgocmVzb2x2ZSkgPT4gewogICAgc2V0VGltZW91dCgoKSA9PiB7CiAgICAgIHJlc29sdmUobnVsbCk7CiAgICB9LCBGSUxFX0NIQU5HRV9USU1FT1VUX01TKTsKICB9KTsKCiAgLy8gV2FpdCBmb3IgdGhlIHVzZXIgdG8gcGljayB0aGUgZmlsZXMuCiAgY29uc3QgZmlsZXMgPSB5aWVsZCB7CiAgICBwcm9taXNlOiBQcm9taXNlLnJhY2UoW3BpY2tlZFByb21pc2UsIHRpbWVvdXRQcm9taXNlLCBjYW5jZWxQcm9taXNlXSksCiAgICByZXNwb25zZTogewogICAgICBhY3Rpb246ICdzdGFydGluZycsCiAgICB9CiAgfTsKCiAgaWYgKCFmaWxlcykgewogICAgcmV0dXJuIHsKICAgICAgcmVzcG9uc2U6IHsKICAgICAgICBhY3Rpb246ICdjb21wbGV0ZScsCiAgICAgIH0KICAgIH07CiAgfQoKICBjYW5jZWwucmVtb3ZlKCk7CgogIC8vIERpc2FibGUgdGhlIGlucHV0IGVsZW1lbnQgc2luY2UgZnVydGhlciBwaWNrcyBhcmUgbm90IGFsbG93ZWQuCiAgaW5wdXRFbGVtZW50LmRpc2FibGVkID0gdHJ1ZTsKCiAgZm9yIChjb25zdCBmaWxlIG9mIGZpbGVzKSB7CiAgICBjb25zdCBsaSA9IGRvY3VtZW50LmNyZWF0ZUVsZW1lbnQoJ2xpJyk7CiAgICBsaS5hcHBlbmQoc3BhbihmaWxlLm5hbWUsIHtmb250V2VpZ2h0OiAnYm9sZCd9KSk7CiAgICBsaS5hcHBlbmQoc3BhbigKICAgICAgICBgKCR7ZmlsZS50eXBlIHx8ICduL2EnfSkgLSAke2ZpbGUuc2l6ZX0gYnl0ZXMsIGAgKwogICAgICAgIGBsYXN0IG1vZGlmaWVkOiAkewogICAgICAgICAgICBmaWxlLmxhc3RNb2RpZmllZERhdGUgPyBmaWxlLmxhc3RNb2RpZmllZERhdGUudG9Mb2NhbGVEYXRlU3RyaW5nKCkgOgogICAgICAgICAgICAgICAgICAgICAgICAgICAgICAgICAgICAnbi9hJ30gLSBgKSk7CiAgICBjb25zdCBwZXJjZW50ID0gc3BhbignMCUgZG9uZScpOwogICAgbGkuYXBwZW5kQ2hpbGQocGVyY2VudCk7CgogICAgb3V0cHV0RWxlbWVudC5hcHBlbmRDaGlsZChsaSk7CgogICAgY29uc3QgZmlsZURhdGFQcm9taXNlID0gbmV3IFByb21pc2UoKHJlc29sdmUpID0+IHsKICAgICAgY29uc3QgcmVhZGVyID0gbmV3IEZpbGVSZWFkZXIoKTsKICAgICAgcmVhZGVyLm9ubG9hZCA9IChlKSA9PiB7CiAgICAgICAgcmVzb2x2ZShlLnRhcmdldC5yZXN1bHQpOwogICAgICB9OwogICAgICByZWFkZXIucmVhZEFzQXJyYXlCdWZmZXIoZmlsZSk7CiAgICB9KTsKICAgIC8vIFdhaXQgZm9yIHRoZSBkYXRhIHRvIGJlIHJlYWR5LgogICAgbGV0IGZpbGVEYXRhID0geWllbGQgewogICAgICBwcm9taXNlOiBmaWxlRGF0YVByb21pc2UsCiAgICAgIHJlc3BvbnNlOiB7CiAgICAgICAgYWN0aW9uOiAnY29udGludWUnLAogICAgICB9CiAgICB9OwoKICAgIC8vIFVzZSBhIGNodW5rZWQgc2VuZGluZyB0byBhdm9pZCBtZXNzYWdlIHNpemUgbGltaXRzLiBTZWUgYi82MjExNTY2MC4KICAgIGxldCBwb3NpdGlvbiA9IDA7CiAgICB3aGlsZSAocG9zaXRpb24gPCBmaWxlRGF0YS5ieXRlTGVuZ3RoKSB7CiAgICAgIGNvbnN0IGxlbmd0aCA9IE1hdGgubWluKGZpbGVEYXRhLmJ5dGVMZW5ndGggLSBwb3NpdGlvbiwgTUFYX1BBWUxPQURfU0laRSk7CiAgICAgIGNvbnN0IGNodW5rID0gbmV3IFVpbnQ4QXJyYXkoZmlsZURhdGEsIHBvc2l0aW9uLCBsZW5ndGgpOwogICAgICBwb3NpdGlvbiArPSBsZW5ndGg7CgogICAgICBjb25zdCBiYXNlNjQgPSBidG9hKFN0cmluZy5mcm9tQ2hhckNvZGUuYXBwbHkobnVsbCwgY2h1bmspKTsKICAgICAgeWllbGQgewogICAgICAgIHJlc3BvbnNlOiB7CiAgICAgICAgICBhY3Rpb246ICdhcHBlbmQnLAogICAgICAgICAgZmlsZTogZmlsZS5uYW1lLAogICAgICAgICAgZGF0YTogYmFzZTY0LAogICAgICAgIH0sCiAgICAgIH07CiAgICAgIHBlcmNlbnQudGV4dENvbnRlbnQgPQogICAgICAgICAgYCR7TWF0aC5yb3VuZCgocG9zaXRpb24gLyBmaWxlRGF0YS5ieXRlTGVuZ3RoKSAqIDEwMCl9JSBkb25lYDsKICAgIH0KICB9CgogIC8vIEFsbCBkb25lLgogIHlpZWxkIHsKICAgIHJlc3BvbnNlOiB7CiAgICAgIGFjdGlvbjogJ2NvbXBsZXRlJywKICAgIH0KICB9Owp9CgpzY29wZS5nb29nbGUgPSBzY29wZS5nb29nbGUgfHwge307CnNjb3BlLmdvb2dsZS5jb2xhYiA9IHNjb3BlLmdvb2dsZS5jb2xhYiB8fCB7fTsKc2NvcGUuZ29vZ2xlLmNvbGFiLl9maWxlcyA9IHsKICBfdXBsb2FkRmlsZXMsCiAgX3VwbG9hZEZpbGVzQ29udGludWUsCn07Cn0pKHNlbGYpOwo=",
              "ok": true,
              "headers": [
                [
                  "content-type",
                  "application/javascript"
                ]
              ],
              "status": 200,
              "status_text": ""
            }
          },
          "base_uri": "https://localhost:8080/",
          "height": 1000
        }
      },
      "source": [
        "from keras.preprocessing import image\n",
        "import cv2\n",
        "\n",
        "model_predict = tf.keras.models.load_model('model.h5')\n",
        "model_predict.compile(optimizer='adam',\n",
        "                      loss='categorical_crossentropy',\n",
        "                      metrics=['accuracy'])\n",
        "\n",
        "uploaded = files.upload()\n",
        "\n",
        "for fn in uploaded.keys():\n",
        "  path = fn\n",
        "  img = image.load_img(path, color_mode=\"rgb\", target_size=(150, 150), interpolation=\"nearest\")\n",
        "  imgplot = plt.imshow(img)\n",
        "  img = image.img_to_array(img)\n",
        "  img = np.expand_dims(img, axis=0)\n",
        "  img = img/255\n",
        "\n",
        "  # img = cv2.imread(path)\n",
        "  # imgplot = plt.imshow(img)\n",
        "  # img = cv2.resize(img,(150,150))\n",
        "  # img = np.reshape(img,[1, 150, 150, 3])\n",
        "\n",
        "  images = np.vstack([img])\n",
        "  classes = model_predict.predict(images, batch_size=10)\n",
        "\n",
        "  print(\"\")\n",
        "  print(fn)\n",
        "  print(classes)\n",
        "\n",
        "  max = np.amax(classes[0])\n",
        "  print(np.where(classes[0] == max)[0])\n",
        "  if np.where(classes[0] == max)[0] == 0:\n",
        "    print('Fresh Apple')\n",
        "  elif np.where(classes[0] == max)[0] == 1:\n",
        "    print('Fresh Banana')\n",
        "  elif np.where(classes[0] == max)[0] == 2:\n",
        "    print('Fresh Orange')\n",
        "  elif np.where(classes[0] == max)[0] == 3:\n",
        "    print('Rotten Apple')\n",
        "  elif np.where(classes[0] == max)[0] == 4:\n",
        "    print('Rotten Banana')\n",
        "  else:\n",
        "    print('Rotten orange')"
      ],
      "execution_count": 77,
      "outputs": [
        {
          "output_type": "display_data",
          "data": {
            "text/html": [
              "\n",
              "     <input type=\"file\" id=\"files-62fedfc9-f762-41ae-adee-e2678388f834\" name=\"files[]\" multiple disabled />\n",
              "     <output id=\"result-62fedfc9-f762-41ae-adee-e2678388f834\">\n",
              "      Upload widget is only available when the cell has been executed in the\n",
              "      current browser session. Please rerun this cell to enable.\n",
              "      </output>\n",
              "      <script src=\"/nbextensions/google.colab/files.js\"></script> "
            ],
            "text/plain": [
              "<IPython.core.display.HTML object>"
            ]
          },
          "metadata": {
            "tags": []
          }
        },
        {
          "output_type": "stream",
          "text": [
            "Saving fresh-apple.jpg to fresh-apple (10).jpg\n",
            "Saving fresh-apple2.jpg to fresh-apple2 (10).jpg\n",
            "Saving fresh-apple3.jpg to fresh-apple3 (10).jpg\n",
            "Saving fresh-banana.jpg to fresh-banana (9).jpg\n",
            "Saving fresh-banana2.jpg to fresh-banana2 (10).jpg\n",
            "Saving fresh-banana3.jpg to fresh-banana3 (10).jpg\n",
            "Saving fresh-orange.jpg to fresh-orange (9).jpg\n",
            "Saving fresh-orange2.jpg to fresh-orange2 (10).jpg\n",
            "Saving fresh-orange3.jpg to fresh-orange3 (9).jpg\n",
            "Saving rotten-apple.jpg to rotten-apple (8).jpg\n",
            "Saving rotten-apple2.jpg to rotten-apple2 (8).jpg\n",
            "Saving rotten-apple3.jpg to rotten-apple3 (8).jpg\n",
            "Saving rotten-banana.jpg to rotten-banana (9).jpg\n",
            "Saving rotten-banana2.jpg to rotten-banana2 (9).jpg\n",
            "Saving rotten-banana3.jpg to rotten-banana3 (9).jpg\n",
            "Saving rotten-orange.jpg to rotten-orange (8).jpg\n",
            "Saving rotten-orange2.jpeg to rotten-orange2 (8).jpeg\n",
            "Saving rotten-orange3.jpeg to rotten-orange3 (8).jpeg\n",
            "\n",
            "fresh-apple.jpg\n",
            "[[9.9349678e-01 9.7278544e-06 3.4023272e-03 3.0882391e-03 1.1830123e-07\n",
            "  2.8435220e-06]]\n",
            "[0]\n",
            "Fresh Apple\n",
            "\n",
            "fresh-apple2.jpg\n",
            "[[9.9911267e-01 9.0916794e-09 7.6597820e-07 8.4684725e-04 1.6951025e-08\n",
            "  3.9636725e-05]]\n",
            "[0]\n",
            "Fresh Apple\n",
            "\n",
            "fresh-apple3.jpg\n",
            "[[9.9999976e-01 3.9690302e-13 3.0926588e-09 1.8925374e-07 7.8191136e-16\n",
            "  7.3541460e-14]]\n",
            "[0]\n",
            "Fresh Apple\n",
            "\n",
            "fresh-banana.jpg\n",
            "[[2.8407837e-07 9.9984932e-01 7.7276658e-05 1.9444899e-06 1.0800349e-05\n",
            "  6.0352846e-05]]\n",
            "[1]\n",
            "Fresh Banana\n",
            "\n",
            "fresh-banana2.jpg\n",
            "[[4.1346557e-06 9.9944919e-01 4.0635938e-04 2.5244064e-05 2.2444507e-05\n",
            "  9.2585666e-05]]\n",
            "[1]\n",
            "Fresh Banana\n",
            "\n",
            "fresh-banana3.jpg\n",
            "[[1.37961935e-08 1.00000000e+00 1.18977972e-09 3.76692411e-09\n",
            "  5.30923153e-11 9.83340165e-09]]\n",
            "[1]\n",
            "Fresh Banana\n",
            "\n",
            "fresh-orange.jpg\n",
            "[[2.7686542e-09 3.7756178e-07 9.9999630e-01 3.8351882e-09 7.0027286e-09\n",
            "  3.2713056e-06]]\n",
            "[2]\n",
            "Fresh Orange\n",
            "\n",
            "fresh-orange2.jpg\n",
            "[[9.5173590e-07 1.3665249e-07 9.9913496e-01 6.2702435e-07 2.4251562e-10\n",
            "  8.6338870e-04]]\n",
            "[2]\n",
            "Fresh Orange\n",
            "\n",
            "fresh-orange3.jpg\n",
            "[[2.4218396e-05 7.7574155e-03 9.7075957e-01 2.1493103e-04 8.1357302e-06\n",
            "  2.1235775e-02]]\n",
            "[2]\n",
            "Fresh Orange\n",
            "\n",
            "rotten-apple.jpg\n",
            "[[2.8752773e-03 5.4032832e-02 2.9467544e-01 1.3290825e-01 2.0112767e-04\n",
            "  5.1530707e-01]]\n",
            "[5]\n",
            "Rotten orange\n",
            "\n",
            "rotten-apple2.jpg\n",
            "[[0.01727722 0.00232202 0.06269761 0.50957197 0.0064012  0.40173003]]\n",
            "[3]\n",
            "Rotten Apple\n",
            "\n",
            "rotten-apple3.jpg\n",
            "[[2.0105795e-03 1.8576979e-09 1.8107516e-04 9.8005223e-01 5.7066787e-09\n",
            "  1.7756095e-02]]\n",
            "[3]\n",
            "Rotten Apple\n",
            "\n",
            "rotten-banana.jpg\n",
            "[[1.3350766e-03 2.3305368e-02 3.5919432e-04 5.3916108e-02 9.2046881e-01\n",
            "  6.1542710e-04]]\n",
            "[4]\n",
            "Rotten Banana\n",
            "\n",
            "rotten-banana2.jpg\n",
            "[[8.9242731e-21 7.1354186e-11 6.0119077e-17 6.3568291e-14 1.0000000e+00\n",
            "  4.2500950e-15]]\n",
            "[4]\n",
            "Rotten Banana\n",
            "\n",
            "rotten-banana3.jpg\n",
            "[[1.3962408e-20 1.4314481e-11 1.1438592e-21 1.0990223e-12 1.0000000e+00\n",
            "  8.8264797e-17]]\n",
            "[4]\n",
            "Rotten Banana\n",
            "\n",
            "rotten-orange.jpg\n",
            "[[1.2014309e-04 2.6150751e-03 8.3082402e-01 3.4766609e-04 4.9954321e-04\n",
            "  1.6559355e-01]]\n",
            "[2]\n",
            "Fresh Orange\n",
            "\n",
            "rotten-orange2.jpeg\n",
            "[[2.3706987e-07 2.0297070e-05 3.9669100e-02 7.3811711e-06 3.0418752e-07\n",
            "  9.6030271e-01]]\n",
            "[5]\n",
            "Rotten orange\n",
            "\n",
            "rotten-orange3.jpeg\n",
            "[[3.7139312e-03 7.6555025e-06 5.2049095e-06 8.1363702e-01 3.7397882e-03\n",
            "  1.7889638e-01]]\n",
            "[3]\n",
            "Rotten Apple\n"
          ],
          "name": "stdout"
        },
        {
          "output_type": "display_data",
          "data": {
            "image/png": "[encoded data removed]",
            "text/plain": [
              "<Figure size 432x288 with 1 Axes>"
            ]
          },
          "metadata": {
            "tags": [],
            "needs_background": "light"
          }
        }
      ]
    }
  ]
}